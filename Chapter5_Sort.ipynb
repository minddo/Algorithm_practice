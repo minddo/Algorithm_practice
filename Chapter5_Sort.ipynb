{
  "nbformat": 4,
  "nbformat_minor": 0,
  "metadata": {
    "colab": {
      "name": "Chapter5_Sort.ipynb",
      "provenance": [],
      "collapsed_sections": [],
      "authorship_tag": "ABX9TyPg7BOlByNtflaQyAIx/47j",
      "include_colab_link": true
    },
    "kernelspec": {
      "name": "python3",
      "display_name": "Python 3"
    }
  },
  "cells": [
    {
      "cell_type": "markdown",
      "metadata": {
        "id": "view-in-github",
        "colab_type": "text"
      },
      "source": [
        "<a href=\"https://colab.research.google.com/github/minddo/Algorithm_practice/blob/master/Chapter5_Sort.ipynb\" target=\"_parent\"><img src=\"https://colab.research.google.com/assets/colab-badge.svg\" alt=\"Open In Colab\"/></a>"
      ]
    },
    {
      "cell_type": "markdown",
      "metadata": {
        "id": "pUsMGtmh2qiP",
        "colab_type": "text"
      },
      "source": [
        "## 수 정렬하기 2 (2751)"
      ]
    },
    {
      "cell_type": "markdown",
      "metadata": {
        "id": "xTBIv5tuiVxO",
        "colab_type": "text"
      },
      "source": [
        "### 리스트 내 메소드 이용"
      ]
    },
    {
      "cell_type": "code",
      "metadata": {
        "id": "rHch4B7N2tOX",
        "colab_type": "code",
        "colab": {
          "base_uri": "https://localhost:8080/",
          "height": 204
        },
        "outputId": "a7e149a6-3b21-4f89-8c8e-7973592abfef"
      },
      "source": [
        "items=[]\n",
        "num=int(input())\n",
        "for i in range(num):\n",
        "    item=int(input())\n",
        "    items.append(item)\n",
        "items.sort(reverse=False)\n",
        "for item in items:\n",
        "    print(item) \n"
      ],
      "execution_count": 15,
      "outputs": [
        {
          "output_type": "stream",
          "text": [
            "5\n",
            "5\n",
            "4\n",
            "3\n",
            "2\n",
            "1\n",
            "1\n",
            "2\n",
            "3\n",
            "4\n",
            "5\n"
          ],
          "name": "stdout"
        }
      ]
    },
    {
      "cell_type": "code",
      "metadata": {
        "id": "XLHo9HC0iQFb",
        "colab_type": "code",
        "colab": {}
      },
      "source": [
        "# 입출력 시간 초과 방지\n",
        "import sys\n",
        "num = int(sys.stdin.readline())\n",
        "items=[]\n",
        "for i in range(num):\n",
        "    item = int(sys.stdin.readline())\n",
        "    items.append(item)\n",
        "items.sort(reverse=False)\n",
        "for item in items:\n",
        "    print(item)\n"
      ],
      "execution_count": null,
      "outputs": []
    },
    {
      "cell_type": "markdown",
      "metadata": {
        "id": "4Mef4m_qia7u",
        "colab_type": "text"
      },
      "source": [
        "### Bubble sort"
      ]
    },
    {
      "cell_type": "code",
      "metadata": {
        "id": "Itk8R0TEibvL",
        "colab_type": "code",
        "colab": {
          "base_uri": "https://localhost:8080/",
          "height": 34
        },
        "outputId": "3c389a95-e0cf-432d-b807-f142da1d17a8"
      },
      "source": [
        "#시간초과\n",
        "for i in range(len(items)):\n",
        "    for j in range(i+1, len(items)):\n",
        "        if items[i]>items[j]:\n",
        "            temp=items[i]\n",
        "            items[i]=items[j]\n",
        "            items[j]=temp\n",
        "for item in items:\n",
        "    print(item)"
      ],
      "execution_count": 9,
      "outputs": [
        {
          "output_type": "stream",
          "text": [
            "[1, 2, 3, 4, 5]\n"
          ],
          "name": "stdout"
        }
      ]
    },
    {
      "cell_type": "markdown",
      "metadata": {
        "id": "XrFiUoeln2fe",
        "colab_type": "text"
      },
      "source": [
        "### Quick sort"
      ]
    },
    {
      "cell_type": "code",
      "metadata": {
        "id": "x8YoEvpcidxK",
        "colab_type": "code",
        "colab": {
          "base_uri": "https://localhost:8080/",
          "height": 34
        },
        "outputId": "7c6de434-66c9-4ed9-d131-b0090e118500"
      },
      "source": [
        "def quick_sort(arr):\n",
        "    if len(arr)<=1:\n",
        "        return arr\n",
        "    pivot=arr[len(arr)//2]\n",
        "    less, equal, greater = [], [], []\n",
        "    for item in arr:\n",
        "        if item>pivot:\n",
        "            greater.append(item)\n",
        "        elif item==pivot:\n",
        "            equal.append(item)\n",
        "        else:\n",
        "            less.append(item)\n",
        "    return quick_sort(less)+equal+quick_sort(greater)\n",
        "\n",
        "import sys\n",
        "num = int(sys.stdin.readline())\n",
        "items=[]\n",
        "for i in range(num):\n",
        "    item = int(sys.stdin.readline())\n",
        "    items.append(item)\n",
        "items=quick_sort(itmes)\n",
        "for item in items:\n",
        "    print(item)"
      ],
      "execution_count": 12,
      "outputs": [
        {
          "output_type": "execute_result",
          "data": {
            "text/plain": [
              "[1, 2, 3, 4, 5]"
            ]
          },
          "metadata": {
            "tags": []
          },
          "execution_count": 12
        }
      ]
    },
    {
      "cell_type": "markdown",
      "metadata": {
        "id": "mCCNcxHGq_4k",
        "colab_type": "text"
      },
      "source": [
        "## 좌표 정렬하기 (11650)"
      ]
    },
    {
      "cell_type": "code",
      "metadata": {
        "id": "R0gQBRLjuW0_",
        "colab_type": "code",
        "colab": {
          "base_uri": "https://localhost:8080/",
          "height": 204
        },
        "outputId": "42b11dd4-85a0-4804-9b6c-5c3363a7a3e3"
      },
      "source": [
        "items=[]\n",
        "num=int(input())\n",
        "for i in range(num):\n",
        "    item=input().split()\n",
        "    item=[int(x) for x in item]\n",
        "    items.append(item)\n",
        "\n",
        "items.sort()\n",
        "for item in items:\n",
        "    print(item[0],item[1])"
      ],
      "execution_count": 16,
      "outputs": [
        {
          "output_type": "stream",
          "text": [
            "5\n",
            "3 4\n",
            "1 1\n",
            "1 -1\n",
            "2 2\n",
            "3 3\n",
            "1 -1\n",
            "1 1\n",
            "2 2\n",
            "3 3\n",
            "3 4\n"
          ],
          "name": "stdout"
        }
      ]
    },
    {
      "cell_type": "code",
      "metadata": {
        "id": "mXXdG-pOrB-c",
        "colab_type": "code",
        "colab": {}
      },
      "source": [
        "# 입출력 시간 초과 방지\n",
        "\n",
        "import sys\n",
        "\n",
        "num = int(sys.stdin.readline())\n",
        "items=[]\n",
        "for i in range(num):\n",
        "    item =sys.stdin.readline().split()\n",
        "    item=[int(x) for x in item]\n",
        "    items.append(item)\n",
        "\n",
        "items.sort()\n",
        "for item in items:\n",
        "    print(item[0],item[1])\n"
      ],
      "execution_count": null,
      "outputs": []
    },
    {
      "cell_type": "markdown",
      "metadata": {
        "id": "37gcLvZTw351",
        "colab_type": "text"
      },
      "source": [
        "## 좌표 정렬하기2 (116541)"
      ]
    },
    {
      "cell_type": "code",
      "metadata": {
        "id": "9wAI7Am3w7BZ",
        "colab_type": "code",
        "colab": {}
      },
      "source": [
        "import sys\n",
        "\n",
        "num = int(sys.stdin.readline())\n",
        "items=[]\n",
        "for i in range(num):\n",
        "    item =sys.stdin.readline().split()\n",
        "    item=[int(x) for x in item]\n",
        "    items.append(item)\n",
        "\n",
        "items=sorted(items, key=lambda item: (item[1],item[0]))  \n",
        "for item in items:\n",
        "    print(item[0],item[1])\n"
      ],
      "execution_count": null,
      "outputs": []
    },
    {
      "cell_type": "markdown",
      "metadata": {
        "id": "l7K8WOiGz7Me",
        "colab_type": "text"
      },
      "source": [
        "## 나이순 정렬"
      ]
    },
    {
      "cell_type": "code",
      "metadata": {
        "id": "3NbrCDOVz8YG",
        "colab_type": "code",
        "colab": {}
      },
      "source": [
        "import sys\n",
        "\n",
        "num = int(sys.stdin.readline())\n",
        "items=[]\n",
        "for i in range(num):\n",
        "    item =sys.stdin.readline().split()\n",
        "\n",
        "    items.append(item)\n",
        "\n",
        "items=sorted(items, key=lambda item: (-int(item[1]),int(item[2]),-int(item[3]), item[0])) \n",
        "for item in items:\n",
        "    print(item[0])\n"
      ],
      "execution_count": null,
      "outputs": []
    },
    {
      "cell_type": "markdown",
      "metadata": {
        "id": "eVxs75PC2yym",
        "colab_type": "text"
      },
      "source": [
        "## 수 정렬하기3 (10989)"
      ]
    },
    {
      "cell_type": "code",
      "metadata": {
        "id": "AfVDkgW8202F",
        "colab_type": "code",
        "colab": {}
      },
      "source": [
        "#메모리초과\n",
        "import sys\n",
        "\n",
        "num = int(sys.stdin.readline())\n",
        "items=[]\n",
        "for i in range(num):\n",
        "    item = int(sys.stdin.readline())\n",
        "    items.append(item)\n",
        "\n",
        "items.sort() \n",
        "for item in items:\n",
        "    print(item)\n",
        "\n"
      ],
      "execution_count": null,
      "outputs": []
    },
    {
      "cell_type": "code",
      "metadata": {
        "id": "4JLnoerh3tP5",
        "colab_type": "code",
        "colab": {}
      },
      "source": [
        "# 딕셔너리 이용\n",
        "# 시간초과\n",
        "import sys\n",
        "\n",
        "num = int(sys.stdin.readline())\n",
        "num_dict={}\n",
        "for i in range(num):\n",
        "    item = int(sys.stdin.readline())\n",
        "    if item not in num_dict:\n",
        "        num_dict[item]=0\n",
        "    num_dict[item]+=1\n",
        "\n",
        "\n",
        "\n",
        "num_dict=sorted(num_dict.items())\n",
        "\n",
        "for item in num_dict:\n",
        "    for i in range(item[1]):\n",
        "        print(item[0])\n",
        "\n"
      ],
      "execution_count": null,
      "outputs": []
    },
    {
      "cell_type": "code",
      "metadata": {
        "id": "NksHzXyBCWlT",
        "colab_type": "code",
        "colab": {}
      },
      "source": [
        "# 리스트 사용\n",
        "import sys\n",
        "\n",
        "num = int(sys.stdin.readline())\n",
        "num_list=[0]*10001\n",
        "\n",
        "for i in range(num):\n",
        "    item = int(sys.stdin.readline())\n",
        "    num_list[item]+=1\n",
        "\n",
        "for i in range(len(num_list)):\n",
        "    if num_list[i]>0:\n",
        "        for j in range(num_list[i]):\n",
        "            print(i)\n"
      ],
      "execution_count": null,
      "outputs": []
    },
    {
      "cell_type": "markdown",
      "metadata": {
        "id": "H8DtfyB9IeDV",
        "colab_type": "text"
      },
      "source": [
        "## 카드 (11652)"
      ]
    },
    {
      "cell_type": "code",
      "metadata": {
        "id": "92o_TyeJIibM",
        "colab_type": "code",
        "colab": {}
      },
      "source": [
        "import sys\n",
        "\n",
        "num = int(sys.stdin.readline())\n",
        "num_dict={}\n",
        "for i in range(num):\n",
        "    item = int(sys.stdin.readline())\n",
        "    if item not in num_dict:\n",
        "        num_dict[item]=0\n",
        "    num_dict[item]+=1\n",
        "\n",
        "num_dict=sorted(num_dict.items(), key=lambda x: (-x[1], x[0]))\n",
        "print(num_dict[0][0])\n"
      ],
      "execution_count": null,
      "outputs": []
    },
    {
      "cell_type": "markdown",
      "metadata": {
        "id": "APn5jdvsIeA4",
        "colab_type": "text"
      },
      "source": [
        "## K번째 수 (11004)"
      ]
    },
    {
      "cell_type": "code",
      "metadata": {
        "id": "l1BTcRTiIo3M",
        "colab_type": "code",
        "colab": {}
      },
      "source": [
        "import sys\n",
        "\n",
        "num, order = map(int,sys.stdin.readline().split())\n",
        "\n",
        "\n",
        "items = sys.stdin.readline().split()\n",
        "items = sorted([int(x) for x in items])\n",
        "\n",
        "print(items[order-1])\n"
      ],
      "execution_count": null,
      "outputs": []
    },
    {
      "cell_type": "markdown",
      "metadata": {
        "id": "3mdHdGa0ML_q",
        "colab_type": "text"
      },
      "source": [
        "## 버블 소트 (1377)"
      ]
    },
    {
      "cell_type": "code",
      "metadata": {
        "id": "AmToRHY5MNxQ",
        "colab_type": "code",
        "colab": {}
      },
      "source": [
        "import sys\n",
        "\n",
        "num = int(sys.stdin.readline())\n",
        "items=[]\n",
        "for i in range(num):\n",
        "    item = int(sys.stdin.readline())\n",
        "    items.append(item)\n",
        "\n",
        "for i in range(len(items)):\n",
        "    swap=False\n",
        "    for j in range(i+1, len(items)):\n",
        "        if items[i]>items[j]:\n",
        "            temp=items[i]\n",
        "            items[i]=items[j]\n",
        "            items[j]=temp\n",
        "            swap=True\n",
        "        if swap==False:\n",
        "            break\n",
        "\n",
        "print(i-1)\n",
        "\n",
        "\n",
        "# 시간 복잡도 O(n^2) => 시간초과"
      ],
      "execution_count": null,
      "outputs": []
    },
    {
      "cell_type": "code",
      "metadata": {
        "id": "oC-BPtjqNRlm",
        "colab_type": "code",
        "colab": {}
      },
      "source": [
        "# 이동 전 후의 인덱스 비교\n",
        "# 예를들어 \n",
        "# 후 (1, 1) (2,3) (3,4) (5,2) (10,0)\n",
        "# 전 (10,0) (1,1) (5,2) (2,3) (3,4)\n",
        "#빼기    1     2     2     -1    -4\n",
        "# 따라서 최대 2번 이상 움직임 당했다 (?) 라고 볼 수 있음\n",
        "# implementation   \n",
        " \n",
        "import sys\n",
        "\n",
        "num = int(sys.stdin.readline())\n",
        "items=[]\n",
        "for i in range(num):\n",
        "    item = int(sys.stdin.readline())\n",
        "    items.append([item,i])\n",
        "\n",
        "sorted_items=sorted(items, key=lambda x: x[0])\n",
        "\n",
        "idx=[]\n",
        "for i in range(num):\n",
        "    idx.append(sorted_items[i][1]-items[i][1])\n",
        "\n",
        "print(max(idx)+1)\n"
      ],
      "execution_count": null,
      "outputs": []
    }
  ]
}