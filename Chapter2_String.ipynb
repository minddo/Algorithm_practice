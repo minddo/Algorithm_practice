{
  "nbformat": 4,
  "nbformat_minor": 0,
  "metadata": {
    "colab": {
      "name": "Chapter2.String.ipynb",
      "provenance": [],
      "collapsed_sections": [],
      "authorship_tag": "ABX9TyNj3Zk7ERSByYj6l0LHoYvT",
      "include_colab_link": true
    },
    "kernelspec": {
      "name": "python3",
      "display_name": "Python 3"
    }
  },
  "cells": [
    {
      "cell_type": "markdown",
      "metadata": {
        "id": "view-in-github",
        "colab_type": "text"
      },
      "source": [
        "<a href=\"https://colab.research.google.com/github/minddo/Algorithm_practice/blob/master/Chapter2_String.ipynb\" target=\"_parent\"><img src=\"https://colab.research.google.com/assets/colab-badge.svg\" alt=\"Open In Colab\"/></a>"
      ]
    },
    {
      "cell_type": "markdown",
      "metadata": {
        "id": "R-IAyPURdxcb",
        "colab_type": "text"
      },
      "source": [
        "#알파벳 갯수 (10808)"
      ]
    },
    {
      "cell_type": "code",
      "metadata": {
        "id": "uwgmJMAybcb4",
        "colab_type": "code",
        "outputId": "8620b408-efcf-4b16-984c-f4dcaa6e7db5",
        "colab": {
          "base_uri": "https://localhost:8080/",
          "height": 51
        }
      },
      "source": [
        "words={\"a\":0,\"b\":0,\"c\":0,\"d\":0,\"e\":0,\"f\":0,\"g\":0,\"h\":0,\"i\":0,\"j\":0,\"k\":0,\"l\":0,\"m\":0,\n",
        "       \"n\":0,\"o\":0,\"p\":0,\"q\":0,\"r\":0,\"s\":0,\"t\":0,\"u\":0,\"v\":0,\"w\":0,\"x\":0,\"y\":0,\"z\":0}\n",
        "\n",
        "word=input()\n",
        "for i in list(word):\n",
        "    words[i]+=1\n",
        "\n",
        "for item in words.values():\n",
        "    print(item, end=\" \")"
      ],
      "execution_count": 0,
      "outputs": [
        {
          "output_type": "stream",
          "text": [
            "beakjoon\n",
            "1 1 0 0 1 0 0 0 0 1 1 0 0 1 2 0 0 0 0 0 0 0 0 0 0 0 "
          ],
          "name": "stdout"
        }
      ]
    },
    {
      "cell_type": "markdown",
      "metadata": {
        "id": "9m7mqg6hd8qK",
        "colab_type": "text"
      },
      "source": [
        "# 알파벳 찾기 (10809)"
      ]
    },
    {
      "cell_type": "code",
      "metadata": {
        "id": "JgD2rQ0ZeEK3",
        "colab_type": "code",
        "outputId": "ed288875-31d8-47ff-8c0b-951f39d997a0",
        "colab": {
          "base_uri": "https://localhost:8080/",
          "height": 51
        }
      },
      "source": [
        "words={\"a\":-1,\"b\":-1,\"c\":-1,\"d\":-1,\"e\":-1,\"f\":-1,\"g\":-1,\"h\":-1,\"i\":-1,\"j\":-1,\"k\":-1,\"l\":-1,\"m\":-1,\n",
        "       \"n\":-1,\"o\":-1,\"p\":-1,\"q\":-1,\"r\":-1,\"s\":-1,\"t\":-1,\"u\":-1,\"v\":-1,\"w\":-1,\"x\":-1,\"y\":-1,\"z\":-1}\n",
        "\n",
        "word=input()\n",
        "for i in range(len(list(word))):\n",
        "    if words[word[i]]==-1:\n",
        "        words[word[i]]=i\n",
        "\n",
        "for item in words.values():\n",
        "    print(item, end=\" \")"
      ],
      "execution_count": 0,
      "outputs": [
        {
          "output_type": "stream",
          "text": [
            "baekjoon\n",
            "1 0 -1 -1 2 -1 -1 -1 -1 4 3 -1 -1 7 5 -1 -1 -1 -1 -1 -1 -1 -1 -1 -1 -1 "
          ],
          "name": "stdout"
        }
      ]
    },
    {
      "cell_type": "markdown",
      "metadata": {
        "id": "HnrJA1iEgCZp",
        "colab_type": "text"
      },
      "source": [
        "#문자열 분석 (10820)"
      ]
    },
    {
      "cell_type": "code",
      "metadata": {
        "id": "7dRWSOrVMzjG",
        "colab_type": "code",
        "colab": {}
      },
      "source": [
        "import sys\n",
        "while True:\n",
        "    line=sys.stdin.readline().rstrip('\\n')\n",
        "    if not line:\n",
        "        break\n",
        "    lower=0\n",
        "    upper=0\n",
        "    space=0\n",
        "    num=0\n",
        "    for word in line:\n",
        "        if word.islower():\n",
        "            lower+=1\n",
        "        elif word.isupper():\n",
        "            upper+=1\n",
        "        elif word.isnumeric():\n",
        "            num+=1\n",
        "        elif word==\" \":\n",
        "            space+=1\n",
        "    print(lower, upper, num, space)\n"
      ],
      "execution_count": 0,
      "outputs": []
    },
    {
      "cell_type": "markdown",
      "metadata": {
        "id": "z-GDDzgHM1X2",
        "colab_type": "text"
      },
      "source": [
        "#ROT13 (11655)"
      ]
    },
    {
      "cell_type": "code",
      "metadata": {
        "id": "uFKavHv_M0Ie",
        "colab_type": "code",
        "colab": {
          "base_uri": "https://localhost:8080/",
          "height": 52
        },
        "outputId": "d124edba-4bed-40c5-b86c-35c364356595"
      },
      "source": [
        "words=input()\n",
        "new=\"\"\n",
        "for alpha in words:\n",
        "    if alpha.isupper():\n",
        "        new_id=ord(alpha)+13\n",
        "        if new_id>90:\n",
        "            new_id-=26\n",
        "        new+=chr(new_id)\n",
        "    elif alpha.islower():\n",
        "        new_id=ord(alpha)+13\n",
        "        if new_id>122:\n",
        "            new_id-=26\n",
        "        new+=chr(new_id)\n",
        "    else:\n",
        "        new+=alpha\n",
        "print(new)"
      ],
      "execution_count": 28,
      "outputs": [
        {
          "output_type": "stream",
          "text": [
            "One is 1\n",
            "Bar vf 1\n"
          ],
          "name": "stdout"
        }
      ]
    },
    {
      "cell_type": "markdown",
      "metadata": {
        "id": "vU09Usp1QqCI",
        "colab_type": "text"
      },
      "source": [
        "#네 수 (10824)"
      ]
    },
    {
      "cell_type": "code",
      "metadata": {
        "id": "WDs2gB4sOFGO",
        "colab_type": "code",
        "colab": {
          "base_uri": "https://localhost:8080/",
          "height": 52
        },
        "outputId": "1b702224-818d-49d1-a44b-c511ad6f9ef2"
      },
      "source": [
        "nums=input().split()\n",
        "num1=int(nums[0])*10**len(nums[1])+int(nums[1])\n",
        "num2=int(nums[2])*10**len(nums[3])+int(nums[3])\n",
        "print(num1+num2)"
      ],
      "execution_count": 32,
      "outputs": [
        {
          "output_type": "stream",
          "text": [
            "10 20 30 40\n",
            "4060\n"
          ],
          "name": "stdout"
        }
      ]
    },
    {
      "cell_type": "markdown",
      "metadata": {
        "id": "yZ7__484SHps",
        "colab_type": "text"
      },
      "source": [
        "#접미사 배열 (11656)"
      ]
    },
    {
      "cell_type": "code",
      "metadata": {
        "id": "iG-8m6zpSKHd",
        "colab_type": "code",
        "colab": {
          "base_uri": "https://localhost:8080/",
          "height": 176
        },
        "outputId": "b4ed00c5-d058-4eb1-eec4-5ae691390457"
      },
      "source": [
        "word=input()\n",
        "word_list=[]\n",
        "for i in range(len(word)):\n",
        "    word_list.append(word[i:])\n",
        "word_list.sort()\n",
        "for item in word_list:\n",
        "    print(item)"
      ],
      "execution_count": 37,
      "outputs": [
        {
          "output_type": "stream",
          "text": [
            "baekjoon\n",
            "aekjoon\n",
            "baekjoon\n",
            "ekjoon\n",
            "joon\n",
            "kjoon\n",
            "n\n",
            "on\n",
            "oon\n"
          ],
          "name": "stdout"
        }
      ]
    }
  ]
}