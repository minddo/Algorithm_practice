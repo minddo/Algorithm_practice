{
  "nbformat": 4,
  "nbformat_minor": 0,
  "metadata": {
    "colab": {
      "name": "input_output.ipynb",
      "provenance": [],
      "toc_visible": true,
      "authorship_tag": "ABX9TyNF0uEvdX3f1D+1zNfg/Drb",
      "include_colab_link": true
    },
    "kernelspec": {
      "name": "python3",
      "display_name": "Python 3"
    }
  },
  "cells": [
    {
      "cell_type": "markdown",
      "metadata": {
        "id": "view-in-github",
        "colab_type": "text"
      },
      "source": [
        "<a href=\"https://colab.research.google.com/github/minddo/Algorithm_practice/blob/master/Chapter1(input_output).ipynb\" target=\"_parent\"><img src=\"https://colab.research.google.com/assets/colab-badge.svg\" alt=\"Open In Colab\"/></a>"
      ]
    },
    {
      "cell_type": "markdown",
      "metadata": {
        "id": "cME9U7BGo43T",
        "colab_type": "text"
      },
      "source": [
        "#Hellow world"
      ]
    },
    {
      "cell_type": "markdown",
      "metadata": {
        "id": "oxiot5fiM0xb",
        "colab_type": "text"
      },
      "source": [
        "##print simple example (2557)"
      ]
    },
    {
      "cell_type": "code",
      "metadata": {
        "id": "LH0Zv3utooeQ",
        "colab_type": "code",
        "outputId": "006b2060-df55-481a-d997-bb30aa706775",
        "colab": {
          "base_uri": "https://localhost:8080/",
          "height": 34
        }
      },
      "source": [
        "print(\"Hello World!\")"
      ],
      "execution_count": 0,
      "outputs": [
        {
          "output_type": "stream",
          "text": [
            "Hello World!\n"
          ],
          "name": "stdout"
        }
      ]
    },
    {
      "cell_type": "markdown",
      "metadata": {
        "id": "x6SLpy6NpXkg",
        "colab_type": "text"
      },
      "source": [
        "#A+B"
      ]
    },
    {
      "cell_type": "markdown",
      "metadata": {
        "id": "nftGqQJcL-41",
        "colab_type": "text"
      },
      "source": [
        "##simple case (1000)"
      ]
    },
    {
      "cell_type": "code",
      "metadata": {
        "id": "NE-Px9RtpYup",
        "colab_type": "code",
        "outputId": "f1bcd921-5b75-4d13-854e-64a5dc5eb3e2",
        "colab": {
          "base_uri": "https://localhost:8080/",
          "height": 51
        }
      },
      "source": [
        "a,b=input().split()\n",
        "a=int(a)\n",
        "b=int(b)\n",
        "print(a+b) "
      ],
      "execution_count": 0,
      "outputs": [
        {
          "output_type": "stream",
          "text": [
            "1 3\n",
            "4\n"
          ],
          "name": "stdout"
        }
      ]
    },
    {
      "cell_type": "markdown",
      "metadata": {
        "id": "i-oOVA-XMFXB",
        "colab_type": "text"
      },
      "source": [
        "## repetitive case (10950)"
      ]
    },
    {
      "cell_type": "code",
      "metadata": {
        "id": "u3kdtZCYL99F",
        "colab_type": "code",
        "outputId": "e42401db-2f7a-43ac-c3b8-1ba02b8d651a",
        "colab": {
          "base_uri": "https://localhost:8080/",
          "height": 204
        }
      },
      "source": [
        "num=int(input())\n",
        "for i in range(num):\n",
        "    a,b=input().split()\n",
        "    a=int(a)\n",
        "    b=int(b)\n",
        "    print(a+b) "
      ],
      "execution_count": 0,
      "outputs": [
        {
          "output_type": "stream",
          "text": [
            "5\n",
            "3 2\n",
            "5\n",
            "4 1\n",
            "5\n",
            "2 2\n",
            "4\n",
            "5 5\n",
            "10\n",
            "3 3\n",
            "6\n"
          ],
          "name": "stdout"
        }
      ]
    },
    {
      "cell_type": "markdown",
      "metadata": {
        "id": "Y2k77lMQNq31",
        "colab_type": "text"
      },
      "source": [
        "# Practice"
      ]
    },
    {
      "cell_type": "markdown",
      "metadata": {
        "id": "Y03hQJyFN5mA",
        "colab_type": "text"
      },
      "source": [
        "##N찍기 (2741)"
      ]
    },
    {
      "cell_type": "code",
      "metadata": {
        "id": "wERvKsARNsol",
        "colab_type": "code",
        "outputId": "eb57305a-51ae-4ccf-c6ce-f3fb15768b6c",
        "colab": {
          "base_uri": "https://localhost:8080/",
          "height": 119
        }
      },
      "source": [
        "num=int(input())\n",
        "for i in range(num):\n",
        "    print(i+1)"
      ],
      "execution_count": 0,
      "outputs": [
        {
          "output_type": "stream",
          "text": [
            "5\n",
            "1\n",
            "2\n",
            "3\n",
            "4\n",
            "5\n"
          ],
          "name": "stdout"
        }
      ]
    },
    {
      "cell_type": "markdown",
      "metadata": {
        "id": "6NPAZ6H1OWK6",
        "colab_type": "text"
      },
      "source": [
        "##기찍N (2742)"
      ]
    },
    {
      "cell_type": "code",
      "metadata": {
        "id": "d6kcmRRWOX9G",
        "colab_type": "code",
        "outputId": "1815f4c0-fe5f-47bd-9645-b01871d64f2d",
        "colab": {
          "base_uri": "https://localhost:8080/",
          "height": 119
        }
      },
      "source": [
        "num=int(input())\n",
        "for i in range(num):\n",
        "    print(num-i)"
      ],
      "execution_count": 0,
      "outputs": [
        {
          "output_type": "stream",
          "text": [
            "5\n",
            "5\n",
            "4\n",
            "3\n",
            "2\n",
            "1\n"
          ],
          "name": "stdout"
        }
      ]
    },
    {
      "cell_type": "markdown",
      "metadata": {
        "id": "zaAcEFXhO2kA",
        "colab_type": "text"
      },
      "source": [
        "##구구단 (2739)"
      ]
    },
    {
      "cell_type": "code",
      "metadata": {
        "id": "eOpWoOZoOimO",
        "colab_type": "code",
        "outputId": "e9226329-b542-4e8a-e42b-6bc84e82c97f",
        "colab": {
          "base_uri": "https://localhost:8080/",
          "height": 187
        }
      },
      "source": [
        "num=int(input())\n",
        "for i in range(1,10):\n",
        "    print(\"{} * {} = {}\".format(num,i,num*i))"
      ],
      "execution_count": 0,
      "outputs": [
        {
          "output_type": "stream",
          "text": [
            "2\n",
            "2 * 1 = 2\n",
            "2 * 2 = 4\n",
            "2 * 3 = 6\n",
            "2 * 4 = 8\n",
            "2 * 5 = 10\n",
            "2 * 6 = 12\n",
            "2 * 7 = 14\n",
            "2 * 8 = 16\n",
            "2 * 9 = 18\n"
          ],
          "name": "stdout"
        }
      ]
    },
    {
      "cell_type": "markdown",
      "metadata": {
        "id": "HP8KXJBePh0P",
        "colab_type": "text"
      },
      "source": [
        "##2007년 (1924)"
      ]
    },
    {
      "cell_type": "code",
      "metadata": {
        "id": "Tv8TT_I7PLkB",
        "colab_type": "code",
        "outputId": "4a2834e2-1d8b-4caa-f335-3177e5851b88",
        "colab": {
          "base_uri": "https://localhost:8080/",
          "height": 51
        }
      },
      "source": [
        "a,b=input().split()\n",
        "Month={\"1\":0, \"2\":31, \"3\":31+28, \"4\":31+28+31, \"5\":31+28+31+30, \"6\":31+28+31+30+31, \"7\":31+28+31+30+31+30,\n",
        "     \"8\":31+28+31+30+31+30+31, \"9\":31+28+31+30+31+30+31+31, \"10\":31+28+31+30+31+30+31+31+30,\n",
        "     \"11\":31+28+31+30+31+30+31+31+30+31, \"12\":31+28+31+30+31+30+31+31+30+31+30}\n",
        "Day={1:\"MON\", 2:\"TUE\", 3:\"WED\", 4:\"THU\", 5:\"FRI\", 6:\"SAT\", 0:\"SUN\"}\n",
        "\n",
        "day=(Month[a]+int(b))%7\n",
        "print(Day[day])"
      ],
      "execution_count": 0,
      "outputs": [
        {
          "output_type": "stream",
          "text": [
            "12 25\n",
            "TUE\n"
          ],
          "name": "stdout"
        }
      ]
    },
    {
      "cell_type": "markdown",
      "metadata": {
        "id": "qieMSghSRvwU",
        "colab_type": "text"
      },
      "source": [
        "## SUM(8393)"
      ]
    },
    {
      "cell_type": "code",
      "metadata": {
        "id": "8FxDhJtSRf4r",
        "colab_type": "code",
        "outputId": "45a7181b-d1b3-4c69-deea-d7b20b370d8a",
        "colab": {
          "base_uri": "https://localhost:8080/",
          "height": 51
        }
      },
      "source": [
        "num=int(input())\n",
        "sum=0\n",
        "for i in range(1,num+1):\n",
        "    sum+=i\n",
        "print(sum)"
      ],
      "execution_count": 0,
      "outputs": [
        {
          "output_type": "stream",
          "text": [
            "3\n",
            "6\n"
          ],
          "name": "stdout"
        }
      ]
    },
    {
      "cell_type": "markdown",
      "metadata": {
        "id": "BWdblmKeSLUD",
        "colab_type": "text"
      },
      "source": [
        "##최소, 최대 (10818)"
      ]
    },
    {
      "cell_type": "code",
      "metadata": {
        "id": "RnG_9OSKRfUV",
        "colab_type": "code",
        "outputId": "87476aa9-fe6f-4cb0-e570-ad70f305a65d",
        "colab": {
          "base_uri": "https://localhost:8080/",
          "height": 68
        }
      },
      "source": [
        "num=int(input())\n",
        "num_list=input().split()\n",
        "num_list=[int(x) for x in num_list]\n",
        "print(\"{} {}\".format(min(num_list), max(num_list)))"
      ],
      "execution_count": 0,
      "outputs": [
        {
          "output_type": "stream",
          "text": [
            "5\n",
            "10 20 30 35 7\n",
            "7 35\n"
          ],
          "name": "stdout"
        }
      ]
    },
    {
      "cell_type": "markdown",
      "metadata": {
        "id": "0hR-_PaTTvKQ",
        "colab_type": "text"
      },
      "source": [
        "##별찍기"
      ]
    },
    {
      "cell_type": "markdown",
      "metadata": {
        "id": "-dA0gjlkTy-x",
        "colab_type": "text"
      },
      "source": [
        "### 1번 (2438)"
      ]
    },
    {
      "cell_type": "code",
      "metadata": {
        "id": "s5PaJj5ZTSTO",
        "colab_type": "code",
        "outputId": "4d2a141f-97b2-4b22-d1bf-4835e5da1e9e",
        "colab": {
          "base_uri": "https://localhost:8080/",
          "height": 119
        }
      },
      "source": [
        "num=int(input())\n",
        "for i in range(1,num+1):\n",
        "    print(\"*\"*i)"
      ],
      "execution_count": 0,
      "outputs": [
        {
          "output_type": "stream",
          "text": [
            "5\n",
            "*\n",
            "**\n",
            "***\n",
            "****\n",
            "*****\n"
          ],
          "name": "stdout"
        }
      ]
    },
    {
      "cell_type": "markdown",
      "metadata": {
        "id": "qtmoyVFaZbls",
        "colab_type": "text"
      },
      "source": [
        "###2번 (2439)"
      ]
    },
    {
      "cell_type": "code",
      "metadata": {
        "id": "-Xpv2r00ZYrV",
        "colab_type": "code",
        "outputId": "ac80ae66-8cb6-495f-8ab4-fed0ba2a9d13",
        "colab": {
          "base_uri": "https://localhost:8080/",
          "height": 119
        }
      },
      "source": [
        "num=int(input())\n",
        "for i in range(1,num+1):\n",
        "    print(\" \"*(num-i),end=\"\")\n",
        "    print(\"*\"*i)"
      ],
      "execution_count": 0,
      "outputs": [
        {
          "output_type": "stream",
          "text": [
            "5\n",
            "    *\n",
            "   **\n",
            "  ***\n",
            " ****\n",
            "*****\n"
          ],
          "name": "stdout"
        }
      ]
    },
    {
      "cell_type": "markdown",
      "metadata": {
        "id": "_cJwcZK6aUu4",
        "colab_type": "text"
      },
      "source": [
        "###3번 (2440)"
      ]
    },
    {
      "cell_type": "code",
      "metadata": {
        "id": "Yy8kbN80aV_O",
        "colab_type": "code",
        "outputId": "c15f9bd2-bc76-4723-f898-d4eae4a958b0",
        "colab": {
          "base_uri": "https://localhost:8080/",
          "height": 119
        }
      },
      "source": [
        "num=int(input())\n",
        "for i in range(num):\n",
        "    print(\"*\"*(num-i))"
      ],
      "execution_count": 0,
      "outputs": [
        {
          "output_type": "stream",
          "text": [
            "5\n",
            "*****\n",
            "****\n",
            "***\n",
            "**\n",
            "*\n"
          ],
          "name": "stdout"
        }
      ]
    },
    {
      "cell_type": "markdown",
      "metadata": {
        "id": "AbJLd5pVarMO",
        "colab_type": "text"
      },
      "source": [
        "###4번 (2441)"
      ]
    },
    {
      "cell_type": "code",
      "metadata": {
        "id": "bHFLPtkXas7U",
        "colab_type": "code",
        "outputId": "59f854d2-f7a8-4454-c3dc-8f9c4793a4ef",
        "colab": {
          "base_uri": "https://localhost:8080/",
          "height": 119
        }
      },
      "source": [
        "num=int(input())\n",
        "for i in range(num):\n",
        "    print(\" \"*i,end='')\n",
        "    print(\"*\"*(num-i))"
      ],
      "execution_count": 0,
      "outputs": [
        {
          "output_type": "stream",
          "text": [
            "5\n",
            "*****\n",
            " ****\n",
            "  ***\n",
            "   **\n",
            "    *\n"
          ],
          "name": "stdout"
        }
      ]
    },
    {
      "cell_type": "markdown",
      "metadata": {
        "id": "8lpGF4Tga8st",
        "colab_type": "text"
      },
      "source": [
        "###5번 (2442)"
      ]
    },
    {
      "cell_type": "code",
      "metadata": {
        "id": "pye5oKnnatNB",
        "colab_type": "code",
        "outputId": "f9bce40c-1b5e-43b1-963b-1251a2ad26d6",
        "colab": {
          "base_uri": "https://localhost:8080/",
          "height": 119
        }
      },
      "source": [
        "num=int(input())\n",
        "for i in range(1,num+1):\n",
        "    print(\" \"*(num-i),end='')\n",
        "    print(\"*\"*(2*i-1))"
      ],
      "execution_count": 0,
      "outputs": [
        {
          "output_type": "stream",
          "text": [
            "5\n",
            "    *\n",
            "   ***\n",
            "  *****\n",
            " *******\n",
            "*********\n"
          ],
          "name": "stdout"
        }
      ]
    },
    {
      "cell_type": "markdown",
      "metadata": {
        "id": "8sx51RN6bhqj",
        "colab_type": "text"
      },
      "source": [
        "###7번 (2444)"
      ]
    },
    {
      "cell_type": "code",
      "metadata": {
        "id": "wUy8JSBMbj0R",
        "colab_type": "code",
        "outputId": "73a39f29-3144-4ccb-839a-623e33fca13a",
        "colab": {
          "base_uri": "https://localhost:8080/",
          "height": 187
        }
      },
      "source": [
        "num=int(input())\n",
        "for i in range(1,num+1):\n",
        "    print(\" \"*(num-i),end='')\n",
        "    print(\"*\"*(2*i-1))\n",
        "for i in range(1,num):\n",
        "    print(\" \"*i,end='')\n",
        "    print(\"*\"*(2*(num-i)-1))"
      ],
      "execution_count": 0,
      "outputs": [
        {
          "output_type": "stream",
          "text": [
            "5\n",
            "    *\n",
            "   ***\n",
            "  *****\n",
            " *******\n",
            "*********\n",
            " *******\n",
            "  *****\n",
            "   ***\n",
            "    *\n"
          ],
          "name": "stdout"
        }
      ]
    },
    {
      "cell_type": "markdown",
      "metadata": {
        "id": "uJfGnmG3cxYp",
        "colab_type": "text"
      },
      "source": [
        "###8번 (2445)"
      ]
    },
    {
      "cell_type": "code",
      "metadata": {
        "id": "kZ_gNCHKcG5v",
        "colab_type": "code",
        "colab": {
          "base_uri": "https://localhost:8080/",
          "height": 187
        },
        "outputId": "9552255f-22e5-4ec5-dd07-bbb0f9c92840"
      },
      "source": [
        "num=int(input())\n",
        "for i in range(1,num+1):\n",
        "    print(\"*\"*i, end='')\n",
        "    print(\" \"*(num-i)*2, end='')\n",
        "    print(\"*\"*i)\n",
        "for i in range(1,num):\n",
        "    print(\"*\"*(num-i), end='')\n",
        "    print(\" \"*i*2, end='')\n",
        "    print(\"*\"*(num-i))"
      ],
      "execution_count": 26,
      "outputs": [
        {
          "output_type": "stream",
          "text": [
            "5\n",
            "*        *\n",
            "**      **\n",
            "***    ***\n",
            "****  ****\n",
            "**********\n",
            "****  ****\n",
            "***    ***\n",
            "**      **\n",
            "*        *\n"
          ],
          "name": "stdout"
        }
      ]
    },
    {
      "cell_type": "markdown",
      "metadata": {
        "id": "6w__EI3Yc033",
        "colab_type": "text"
      },
      "source": [
        "###9번 (2445)"
      ]
    },
    {
      "cell_type": "code",
      "metadata": {
        "id": "IWjRpHuDcsBJ",
        "colab_type": "code",
        "colab": {
          "base_uri": "https://localhost:8080/",
          "height": 187
        },
        "outputId": "ab373614-d9b5-40c7-99d1-833d11ed3721"
      },
      "source": [
        "num=int(input())\n",
        "for i in range(0,num-1):\n",
        "    print(\" \"*i,end='')\n",
        "    print(\"*\"*(2*(num-i)-1))\n",
        "for i in range(1,num+1):\n",
        "    print(\" \"*(num-i),end='')\n",
        "    print(\"*\"*(2*i-1))"
      ],
      "execution_count": 32,
      "outputs": [
        {
          "output_type": "stream",
          "text": [
            "5\n",
            "*********\n",
            " *******\n",
            "  *****\n",
            "   ***\n",
            "    *\n",
            "   ***\n",
            "  *****\n",
            " *******\n",
            "*********\n"
          ],
          "name": "stdout"
        }
      ]
    },
    {
      "cell_type": "markdown",
      "metadata": {
        "id": "iGSwU8Rqd5zV",
        "colab_type": "text"
      },
      "source": [
        "### 12번 (2552)"
      ]
    },
    {
      "cell_type": "code",
      "metadata": {
        "id": "dEOuqkumd-k_",
        "colab_type": "code",
        "colab": {
          "base_uri": "https://localhost:8080/",
          "height": 119
        },
        "outputId": "611c5123-3df7-423c-bf09-528f44ecd7c6"
      },
      "source": [
        "num=int(input())\n",
        "for i in range(1,num+1):\n",
        "    print(\" \"*(num-i),end='')\n",
        "    print(\"*\"*(i))\n",
        "for i in range(1,num):\n",
        "    print(\" \"*i,end='')\n",
        "    print(\"*\"*((num-i)))"
      ],
      "execution_count": 33,
      "outputs": [
        {
          "output_type": "stream",
          "text": [
            "3\n",
            "  *\n",
            " **\n",
            "***\n",
            " **\n",
            "  *\n"
          ],
          "name": "stdout"
        }
      ]
    },
    {
      "cell_type": "markdown",
      "metadata": {
        "id": "wu1wZPZeedYL",
        "colab_type": "text"
      },
      "source": [
        "16번 (10991)"
      ]
    },
    {
      "cell_type": "code",
      "metadata": {
        "id": "D8DFn8e8eqkL",
        "colab_type": "code",
        "colab": {
          "base_uri": "https://localhost:8080/",
          "height": 85
        },
        "outputId": "c6c56cbb-db57-4a8e-f011-b372f7a118c6"
      },
      "source": [
        "num=int(input())\n",
        "for i in range(1,num+1):\n",
        "    print(\" \"*(num-i),end='')\n",
        "    print(\"* \"*i)"
      ],
      "execution_count": 34,
      "outputs": [
        {
          "output_type": "stream",
          "text": [
            "3\n",
            "  * \n",
            " * * \n",
            "* * * \n"
          ],
          "name": "stdout"
        }
      ]
    },
    {
      "cell_type": "markdown",
      "metadata": {
        "id": "Wmbq9lLoe4dg",
        "colab_type": "text"
      },
      "source": [
        "###17번 (10992)"
      ]
    },
    {
      "cell_type": "code",
      "metadata": {
        "id": "mUM7qy8Me7JB",
        "colab_type": "code",
        "colab": {
          "base_uri": "https://localhost:8080/",
          "height": 85
        },
        "outputId": "88e442c8-a372-4d1b-e918-542c25f6a8f2"
      },
      "source": [
        "num=int(input())\n",
        "for i in range(1,num):\n",
        "    if i==1:\n",
        "        print(\" \"*(num-i),end='')\n",
        "        print(\"*\")\n",
        "    else:\n",
        "        print(\" \"*(num-i),end='')\n",
        "        print(\"*\",end='')\n",
        "        print(\" \"*(2*(i-1)-1),end='')\n",
        "        print(\"*\")\n",
        "print(\"*\"*(2*num-1))"
      ],
      "execution_count": 41,
      "outputs": [
        {
          "output_type": "stream",
          "text": [
            "3\n",
            "  *\n",
            " * *\n",
            "*****\n"
          ],
          "name": "stdout"
        }
      ]
    }
  ]
}
