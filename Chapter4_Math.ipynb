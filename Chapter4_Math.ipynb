{
  "nbformat": 4,
  "nbformat_minor": 0,
  "metadata": {
    "colab": {
      "name": "Chapter4_Math",
      "provenance": [],
      "authorship_tag": "ABX9TyMXR0ZrNJj0fGp5edNsV+C+",
      "include_colab_link": true
    },
    "kernelspec": {
      "name": "python3",
      "display_name": "Python 3"
    }
  },
  "cells": [
    {
      "cell_type": "markdown",
      "metadata": {
        "id": "view-in-github",
        "colab_type": "text"
      },
      "source": [
        "<a href=\"https://colab.research.google.com/github/minddo/Algorithm_practice/blob/master/Chapter4_Math.ipynb\" target=\"_parent\"><img src=\"https://colab.research.google.com/assets/colab-badge.svg\" alt=\"Open In Colab\"/></a>"
      ]
    },
    {
      "cell_type": "markdown",
      "metadata": {
        "id": "8ZLV7omIlAK1",
        "colab_type": "text"
      },
      "source": [
        "# 나머지 (10430)"
      ]
    },
    {
      "cell_type": "code",
      "metadata": {
        "id": "HLNLPyb8knk_",
        "colab_type": "code",
        "colab": {
          "base_uri": "https://localhost:8080/",
          "height": 107
        },
        "outputId": "b91b7bdc-6d2b-49f3-83c3-c5eb9d35c9df"
      },
      "source": [
        "a,b,c=map(int, input().split())\n",
        "print((a+b)%c)\n",
        "print(((a%c)+(b%c))%c)\n",
        "print((a*b)%c)\n",
        "print(((a%c)*(b%c))%c)"
      ],
      "execution_count": null,
      "outputs": [
        {
          "output_type": "stream",
          "text": [
            "5 8 4\n",
            "1\n",
            "1\n",
            "0\n",
            "0\n"
          ],
          "name": "stdout"
        }
      ]
    },
    {
      "cell_type": "markdown",
      "metadata": {
        "id": "JFyjZKaXl0D6",
        "colab_type": "text"
      },
      "source": [
        "#최대공약수와 최소공배수 (2609)"
      ]
    },
    {
      "cell_type": "code",
      "metadata": {
        "id": "loaiXj0pnGxA",
        "colab_type": "code",
        "colab": {
          "base_uri": "https://localhost:8080/",
          "height": 71
        },
        "outputId": "0001f84f-93ee-44ec-8f2c-f886d7826da3"
      },
      "source": [
        "a,b=map(int, input().split())\n",
        "def GCD(a,b):\n",
        "    while b!=0:\n",
        "        r=a%b\n",
        "        a=b\n",
        "        b=r\n",
        "    return a\n",
        "def LCM(a,b):\n",
        "    gcd=GCD(a,b)\n",
        "    return gcd*(a//gcd)*(b//gcd)\n",
        "print(GCD(a,b))\n",
        "print(LCM(a,b))"
      ],
      "execution_count": null,
      "outputs": [
        {
          "output_type": "stream",
          "text": [
            "24 18\n",
            "6\n",
            "72\n"
          ],
          "name": "stdout"
        }
      ]
    },
    {
      "cell_type": "markdown",
      "metadata": {
        "id": "CIPst80OohWM",
        "colab_type": "text"
      },
      "source": [
        "#최소공배수 (1934)"
      ]
    },
    {
      "cell_type": "code",
      "metadata": {
        "id": "D5V7pWKWold0",
        "colab_type": "code",
        "colab": {
          "base_uri": "https://localhost:8080/",
          "height": 143
        },
        "outputId": "e2583629-234a-4065-aea2-fd4d3e887342"
      },
      "source": [
        "num=int(input())\n",
        "for i in range(num):\n",
        "    a,b=map(int, input().split())\n",
        "    print(LCM(a,b)) "
      ],
      "execution_count": null,
      "outputs": [
        {
          "output_type": "stream",
          "text": [
            "3\n",
            "1 45000\n",
            "45000\n",
            "6 10\n",
            "30\n",
            "13 17\n",
            "221\n"
          ],
          "name": "stdout"
        }
      ]
    },
    {
      "cell_type": "markdown",
      "metadata": {
        "id": "h23Hdaiop0J9",
        "colab_type": "text"
      },
      "source": [
        "#GCD 합 (9613)"
      ]
    },
    {
      "cell_type": "code",
      "metadata": {
        "id": "scnlZjsup4Ki",
        "colab_type": "code",
        "colab": {
          "base_uri": "https://localhost:8080/",
          "height": 71
        },
        "outputId": "1efc5e6d-c1b3-4169-ac58-bd4698aa6ee9"
      },
      "source": [
        "num=int(input())\n",
        "for i in range(num):\n",
        "    num_list=input().split()\n",
        "    num_list=[int(x) for x in num_list]\n",
        "    n=num_list[0]\n",
        "    num_list=num_list[1:]\n",
        "\n",
        "    GCD_list=[]\n",
        "    for i in range(n):\n",
        "        for j in range(i+1,n):\n",
        "            GCD_list.append(GCD(num_list[i],num_list[j]))\n",
        "    print(sum(GCD_list))\n"
      ],
      "execution_count": null,
      "outputs": [
        {
          "output_type": "stream",
          "text": [
            "1\n",
            "4 10 20 30 40\n",
            "70\n"
          ],
          "name": "stdout"
        }
      ]
    },
    {
      "cell_type": "markdown",
      "metadata": {
        "id": "Z1sMhcH2wnaP",
        "colab_type": "text"
      },
      "source": [
        "# 진법"
      ]
    },
    {
      "cell_type": "markdown",
      "metadata": {
        "id": "keBuErvar6Gv",
        "colab_type": "text"
      },
      "source": [
        "##진법 변환 (2745)"
      ]
    },
    {
      "cell_type": "code",
      "metadata": {
        "id": "mcE6Vzp8r77O",
        "colab_type": "code",
        "colab": {
          "base_uri": "https://localhost:8080/",
          "height": 53
        },
        "outputId": "16180ee6-ef6e-443b-ced1-552ca2e3bea5"
      },
      "source": [
        "num,n=input().split()\n",
        "\n",
        "total=0\n",
        "for i in range(len(num)):\n",
        "    if num[len(num)-1-i].isdigit():\n",
        "        total+=int(num[len(num)-1-i])*int(n)**i\n",
        "    else:\n",
        "        total+=(ord(num[len(num)-1-i])-55)*int(n)**i\n",
        "print(total)"
      ],
      "execution_count": null,
      "outputs": [
        {
          "output_type": "stream",
          "text": [
            "ZZZZZ 36\n",
            "60466175\n"
          ],
          "name": "stdout"
        }
      ]
    },
    {
      "cell_type": "markdown",
      "metadata": {
        "id": "I8TDT0j2wpw8",
        "colab_type": "text"
      },
      "source": [
        "## 2진수 8진수 (1373)"
      ]
    },
    {
      "cell_type": "code",
      "metadata": {
        "id": "9Dcu0jwutuOc",
        "colab_type": "code",
        "colab": {
          "base_uri": "https://localhost:8080/",
          "height": 51
        },
        "outputId": "ab06a980-654a-41ac-ea59-45f7cef78108"
      },
      "source": [
        "#시간초ㅘ\n",
        "bi=input()\n",
        "count=0\n",
        "total=''\n",
        "for i in range(len(bi)):\n",
        "    count+=int(bi[len(bi)-i-1])*2**(i%3)\n",
        "    if i%3==2:\n",
        "        total= str(count)+total\n",
        "        count=0\n",
        "if i%3!=2:\n",
        "    total=str(count)+total\n",
        "print(int(total))"
      ],
      "execution_count": 1,
      "outputs": [
        {
          "output_type": "stream",
          "text": [
            "11001100\n",
            "314\n"
          ],
          "name": "stdout"
        }
      ]
    },
    {
      "cell_type": "code",
      "metadata": {
        "id": "YsaXPRf1yhFL",
        "colab_type": "code",
        "colab": {
          "base_uri": "https://localhost:8080/",
          "height": 53
        },
        "outputId": "4b082b7b-ebf3-4b76-97c5-faeb0c33055d"
      },
      "source": [
        "print(oct(int(input(), 2))[2:])"
      ],
      "execution_count": null,
      "outputs": [
        {
          "output_type": "stream",
          "text": [
            "11001100\n",
            "314\n"
          ],
          "name": "stdout"
        }
      ]
    },
    {
      "cell_type": "markdown",
      "metadata": {
        "id": "RooM9QOuf00L",
        "colab_type": "text"
      },
      "source": [
        "## 8진수 2진수 (1212)"
      ]
    },
    {
      "cell_type": "code",
      "metadata": {
        "id": "DQpuen8H4rHx",
        "colab_type": "code",
        "colab": {
          "base_uri": "https://localhost:8080/",
          "height": 51
        },
        "outputId": "90c3a370-1e28-4b3b-fdf8-91903d1dd649"
      },
      "source": [
        "print(bin(int(input(), 8))[2:])"
      ],
      "execution_count": 7,
      "outputs": [
        {
          "output_type": "stream",
          "text": [
            "314\n",
            "11001100\n"
          ],
          "name": "stdout"
        }
      ]
    },
    {
      "cell_type": "code",
      "metadata": {
        "id": "Vgpv2Y_4f-y_",
        "colab_type": "code",
        "colab": {
          "base_uri": "https://localhost:8080/",
          "height": 51
        },
        "outputId": "95c9fec0-5689-4094-d73d-95bb08036d7a"
      },
      "source": [
        "oc=input()\n",
        "total=''\n",
        "count=0\n",
        "if oc=='0':\n",
        "    print(0)\n",
        "    \n",
        "else:\n",
        "    for i in range(len(oc)):\n",
        "        target=int(oc[i])\n",
        "        if i==0:\n",
        "            if target//4==1:\n",
        "                total+='1'\n",
        "                target-=4\n",
        "                count+=1\n",
        "            \n",
        "            if target//2==1:\n",
        "                total+='1'\n",
        "                target-=2\n",
        "                count+=1\n",
        "            elif count!=0:\n",
        "                total+='0'\n",
        "            \n",
        "            if target==1:\n",
        "                total+='1'\n",
        "            elif count!=0:\n",
        "                total+='0'\n",
        "        else:\n",
        "            if target//4==1:\n",
        "                total+='1'\n",
        "                target-=4\n",
        "            else:\n",
        "                total+='0'\n",
        "                \n",
        "            if target//2==1:\n",
        "                total+='1'\n",
        "                target-=2\n",
        "            else:\n",
        "                total+='0'\n",
        "            if target==1:\n",
        "                total+='1'\n",
        "            else:\n",
        "                total+='0'\n",
        "    print(total) "
      ],
      "execution_count": 40,
      "outputs": [
        {
          "output_type": "stream",
          "text": [
            "314\n",
            "11001100\n"
          ],
          "name": "stdout"
        }
      ]
    },
    {
      "cell_type": "markdown",
      "metadata": {
        "id": "xdak1tKaJ5O9",
        "colab_type": "text"
      },
      "source": [
        "## -2진수"
      ]
    },
    {
      "cell_type": "code",
      "metadata": {
        "id": "8yaegI4_4A2O",
        "colab_type": "code",
        "colab": {
          "base_uri": "https://localhost:8080/",
          "height": 51
        },
        "outputId": "a325fade-9a87-4b1f-f0ba-db2918107acb"
      },
      "source": [
        "num=int(input())\n",
        "total=''\n",
        "if num==0:\n",
        "    print(0)\n",
        "else:\n",
        "    while num!=0:\n",
        "        if num%2==0:\n",
        "            num=-(num//2)\n",
        "            total='0'+total\n",
        "        else:\n",
        "            if num>0:\n",
        "                num=-(num//2)\n",
        "                total='1'+total\n",
        "            else:\n",
        "                num=(-num+1)//2\n",
        "                total='1'+total\n",
        "    print(total)"
      ],
      "execution_count": 38,
      "outputs": [
        {
          "output_type": "stream",
          "text": [
            "0\n",
            "\n"
          ],
          "name": "stdout"
        }
      ]
    },
    {
      "cell_type": "markdown",
      "metadata": {
        "id": "OMSshb6kTKDk",
        "colab_type": "text"
      },
      "source": [
        "## 진법 변환 (11576)"
      ]
    },
    {
      "cell_type": "code",
      "metadata": {
        "id": "U23BvH8XMVMO",
        "colab_type": "code",
        "colab": {
          "base_uri": "https://localhost:8080/",
          "height": 85
        },
        "outputId": "f6519337-adaf-4632-f10e-f5ca25d0ad3c"
      },
      "source": [
        "A,B=map(int, input().split())\n",
        "num=int(input())\n",
        "num_list=input().split()\n",
        "num_list=[int(x) for x in num_list]\n",
        "sum=0\n",
        "for i in range(len(num_list)):\n",
        "    num_list[i]=num_list[i]*(A**(num-i-1))\n",
        "    sum+=num_list[i]\n",
        "\n",
        "total=''\n",
        "while sum !=0:\n",
        "    total=str(sum%B)+total\n",
        "    sum=sum//B\n",
        "    if sum!=0:\n",
        "        total=\" \"+total\n",
        "print(total)\n"
      ],
      "execution_count": 64,
      "outputs": [
        {
          "output_type": "stream",
          "text": [
            "17 8\n",
            "2\n",
            "2 16\n",
            "6 2\n"
          ],
          "name": "stdout"
        }
      ]
    },
    {
      "cell_type": "markdown",
      "metadata": {
        "id": "yQQqA5-zY2TH",
        "colab_type": "text"
      },
      "source": [
        "## 소수찾기 (1978)"
      ]
    },
    {
      "cell_type": "code",
      "metadata": {
        "id": "trN4RkkSUNr_",
        "colab_type": "code",
        "colab": {}
      },
      "source": [
        "def prime(num):\n",
        "    if num <= 1:\n",
        "        return 0\n",
        "    else:\n",
        "        for i in range(2,num//2):\n",
        "            if num%i==0:\n",
        "                return 0\n",
        "        return 1"
      ],
      "execution_count": 80,
      "outputs": []
    },
    {
      "cell_type": "code",
      "metadata": {
        "id": "D3AegO1tZiiD",
        "colab_type": "code",
        "colab": {
          "base_uri": "https://localhost:8080/",
          "height": 68
        },
        "outputId": "c1b0ad5e-7169-4412-fd89-fb9a394f07af"
      },
      "source": [
        "n=int(input())\n",
        "num_list=input().split()\n",
        "total=0\n",
        "for i in range(n):\n",
        "    total+=prime(int(num_list[i]))\n",
        "print(total)"
      ],
      "execution_count": 79,
      "outputs": [
        {
          "output_type": "stream",
          "text": [
            "4\n",
            "1 3 5 7\n",
            "3\n"
          ],
          "name": "stdout"
        }
      ]
    },
    {
      "cell_type": "markdown",
      "metadata": {
        "id": "tEq92ydxc_VZ",
        "colab_type": "text"
      },
      "source": [
        "## 에라토스테네스의 체 (1929)"
      ]
    },
    {
      "cell_type": "code",
      "metadata": {
        "id": "_WFnf0bRedHu",
        "colab_type": "code",
        "colab": {
          "base_uri": "https://localhost:8080/",
          "height": 119
        },
        "outputId": "1fad16e2-641f-49b7-ab80-523f1270732a"
      },
      "source": [
        "a,b = map(int,input().split())\n",
        "def get_prime(num):\n",
        "    is_prime=[True]*(num+1)\n",
        "\n",
        "    for i in range(2,len(is_prime)):\n",
        "        if i*i>num:\n",
        "            break\n",
        "        if is_prime[i]==True:\n",
        "\n",
        "            for j in range(i+i,num+1,i):\n",
        "                is_prime[j]=False\n",
        "        \n",
        "    return [i for i in range(2,num+1) if is_prime[i]]\n",
        "prime_num=get_prime(b)\n",
        "for i in prime_num:\n",
        "    if i>=a:\n",
        "        print(i)"
      ],
      "execution_count": 27,
      "outputs": [
        {
          "output_type": "stream",
          "text": [
            "3 16\n",
            "3\n",
            "5\n",
            "7\n",
            "11\n",
            "13\n"
          ],
          "name": "stdout"
        }
      ]
    },
    {
      "cell_type": "markdown",
      "metadata": {
        "id": "0ihA-GOjZ6K_",
        "colab_type": "text"
      },
      "source": [
        "## 골드바흐의 추측(6588)"
      ]
    },
    {
      "cell_type": "code",
      "metadata": {
        "id": "Gj5_vPAiX9Ay",
        "colab_type": "code",
        "colab": {
          "base_uri": "https://localhost:8080/",
          "height": 136
        },
        "outputId": "ce3e9bd1-0689-4d9b-e905-3ad484a6ac50"
      },
      "source": [
        "def get_prime(num):\n",
        "    is_prime=[True]*(num+1)\n",
        "\n",
        "    for i in range(2,len(is_prime)):\n",
        "        if i*i>num:\n",
        "            break\n",
        "        if is_prime[i]==True:\n",
        "\n",
        "            for j in range(i+i,num+1,i):\n",
        "                is_prime[j]=False\n",
        "        \n",
        "    return [i for i in range(2,num+1) if is_prime[i]],is_prime\n",
        "prime_num,prime_bool=get_prime(1000000)\n",
        "while True:\n",
        "    num=int(input())\n",
        "    if num==0:\n",
        "        break\n",
        "\n",
        "    for i in range(num//2):\n",
        "        if prime_bool[num-prime_num[i]]:\n",
        "            print(\"{} = {} + {}\".format(num, prime_num[i], num-prime_num[i]))\n",
        "            break"
      ],
      "execution_count": 25,
      "outputs": [
        {
          "output_type": "stream",
          "text": [
            "8\n",
            "8 = 3 + 5\n",
            "20\n",
            "20 = 3 + 17\n",
            "42\n",
            "42 = 5 + 37\n",
            "0\n"
          ],
          "name": "stdout"
        }
      ]
    },
    {
      "cell_type": "markdown",
      "metadata": {
        "id": "UPoxZA43lKwB",
        "colab_type": "text"
      },
      "source": [
        "## 소인수 분해 (11635)"
      ]
    },
    {
      "cell_type": "code",
      "metadata": {
        "id": "zWs6cOpAlhge",
        "colab_type": "code",
        "colab": {
          "base_uri": "https://localhost:8080/",
          "height": 68
        },
        "outputId": "de3a2cbe-68fb-42ff-8f21-91f9ac96f2c6"
      },
      "source": [
        "num=int(input())\n",
        "prev=1\n",
        "while num!=1:\n",
        "    for i in range(2,num):\n",
        "        if i*i>num:\n",
        "            break\n",
        "        if num%i==0:\n",
        "            print(i)\n",
        "            num=num//i\n",
        "            break\n",
        "    if prev==num:\n",
        "        print(num)\n",
        "        break\n",
        "    prev=num"
      ],
      "execution_count": 33,
      "outputs": [
        {
          "output_type": "stream",
          "text": [
            "9991\n",
            "97\n",
            "103\n"
          ],
          "name": "stdout"
        }
      ]
    },
    {
      "cell_type": "markdown",
      "metadata": {
        "id": "gTrW2leboSeY",
        "colab_type": "text"
      },
      "source": [
        "## 팩토리얼 (10872)"
      ]
    },
    {
      "cell_type": "code",
      "metadata": {
        "id": "-GTDWk3ZoVvC",
        "colab_type": "code",
        "colab": {
          "base_uri": "https://localhost:8080/",
          "height": 51
        },
        "outputId": "15504dd4-87e9-4df9-eb4a-9f47ed4c8209"
      },
      "source": [
        "\n",
        "def factorial(n):\n",
        "    if n == 0:\n",
        "        return 1\n",
        "    else:\n",
        "        return n*factorial(n-1)\n",
        "\n",
        "num=int(input())\n",
        "print(factorial(num))"
      ],
      "execution_count": 42,
      "outputs": [
        {
          "output_type": "stream",
          "text": [
            "6\n",
            "720\n"
          ],
          "name": "stdout"
        }
      ]
    },
    {
      "cell_type": "markdown",
      "metadata": {
        "id": "R2-6cGrlpqsa",
        "colab_type": "text"
      },
      "source": [
        "## 팩토리얼 0의 개수 (1676)"
      ]
    },
    {
      "cell_type": "code",
      "metadata": {
        "id": "Qd9x7aPvpv9n",
        "colab_type": "code",
        "colab": {
          "base_uri": "https://localhost:8080/",
          "height": 51
        },
        "outputId": "146c0822-e6dd-42be-b622-ab67cf50a6c9"
      },
      "source": [
        "def countNum(N, num): \n",
        "    count = 0 \n",
        "    divNum = num\n",
        "    while(N >= divNum): \n",
        "        count = count + (N // divNum)\n",
        "        divNum = divNum * num \n",
        "    return count\n",
        "\n",
        "num = int(input())\n",
        "print(countNum(100,5))\n"
      ],
      "execution_count": 61,
      "outputs": [
        {
          "output_type": "stream",
          "text": [
            "100\n",
            "24\n"
          ],
          "name": "stdout"
        }
      ]
    },
    {
      "cell_type": "markdown",
      "metadata": {
        "id": "3BNZrq4uwQFX",
        "colab_type": "text"
      },
      "source": [
        "## 조합 0의 개수 (2004)\n"
      ]
    },
    {
      "cell_type": "code",
      "metadata": {
        "id": "_1SEsHMkzqyg",
        "colab_type": "code",
        "colab": {
          "base_uri": "https://localhost:8080/",
          "height": 51
        },
        "outputId": "bfb4d886-b385-4b82-dd15-cd592847b444"
      },
      "source": [
        "def countNum(N, num): \n",
        "    count = 0 \n",
        "    divNum = num\n",
        "    while(N >= divNum): \n",
        "        count = count + (N // divNum)\n",
        "        divNum = divNum * num \n",
        "    return count\n",
        "M, N = map(int, input().split())\n",
        "print(min(countNum(M, 5) - countNum(N, 5) - countNum(M-N, 5), countNum(M, 2) - countNum(N, 2) - countNum(M-N, 2)))\n",
        "\n"
      ],
      "execution_count": 60,
      "outputs": [
        {
          "output_type": "stream",
          "text": [
            "25 12\n",
            "2\n"
          ],
          "name": "stdout"
        }
      ]
    }
  ]
}