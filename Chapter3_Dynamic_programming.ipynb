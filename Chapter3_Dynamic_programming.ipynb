{
  "nbformat": 4,
  "nbformat_minor": 0,
  "metadata": {
    "colab": {
      "name": "Chapter3.Dynamic programming.ipynb",
      "provenance": [],
      "toc_visible": true,
      "authorship_tag": "ABX9TyOqnoIcbEwN12hENIwIgoZJ",
      "include_colab_link": true
    },
    "kernelspec": {
      "name": "python3",
      "display_name": "Python 3"
    }
  },
  "cells": [
    {
      "cell_type": "markdown",
      "metadata": {
        "id": "view-in-github",
        "colab_type": "text"
      },
      "source": [
        "<a href=\"https://colab.research.google.com/github/minddo/Algorithm_practice/blob/master/Chapter3_Dynamic_programming.ipynb\" target=\"_parent\"><img src=\"https://colab.research.google.com/assets/colab-badge.svg\" alt=\"Open In Colab\"/></a>"
      ]
    },
    {
      "cell_type": "markdown",
      "metadata": {
        "id": "N4rVxf8682Vy",
        "colab_type": "text"
      },
      "source": [
        "# 1로 만들기 (1463) "
      ]
    },
    {
      "cell_type": "markdown",
      "metadata": {
        "id": "cstpOvdK9Yqn",
        "colab_type": "text"
      },
      "source": [
        "## Top-down"
      ]
    },
    {
      "cell_type": "code",
      "metadata": {
        "id": "DSkX226wK6TX",
        "colab_type": "code",
        "outputId": "d3e0f5c6-6224-4b0b-f074-f4f5d9dec26d",
        "colab": {
          "base_uri": "https://localhost:8080/",
          "height": 53
        }
      },
      "source": [
        "# DFS , 시간초과\n",
        "num=int(input())\n",
        "num_dict={}\n",
        "depth=0\n",
        "def make_one(num, num_dict, depth=0):\n",
        "    depth+=1\n",
        "    if num==1:\n",
        "        return 0\n",
        "    if num%3==0:\n",
        "        temp=num//3\n",
        "        if temp not in num_dict:\n",
        "            num_dict[temp]=depth\n",
        "        else:\n",
        "            if num_dict[temp]>depth:\n",
        "                num_dict[temp]=depth\n",
        "        make_one(temp, num_dict, depth)\n",
        "    if num%2==0:\n",
        "        temp=num//2\n",
        "        if temp not in num_dict:\n",
        "            num_dict[temp]=depth\n",
        "        else:\n",
        "            if num_dict[temp]>depth:\n",
        "                num_dict[temp]=depth\n",
        "        make_one(temp, num_dict, depth)\n",
        "    temp=num-1\n",
        "    if temp not in num_dict:\n",
        "        num_dict[temp]=depth\n",
        "    else:\n",
        "        if num_dict[temp]>depth:\n",
        "            num_dict[temp]=depth\n",
        "    make_one(temp, num_dict, depth)\n",
        "\n",
        "make_one(num, num_dict)\n",
        "num_dict[1]\n",
        "\n",
        "    "
      ],
      "execution_count": 0,
      "outputs": [
        {
          "output_type": "stream",
          "text": [
            "10\n"
          ],
          "name": "stdout"
        },
        {
          "output_type": "execute_result",
          "data": {
            "text/plain": [
              "3"
            ]
          },
          "metadata": {
            "tags": []
          },
          "execution_count": 42
        }
      ]
    },
    {
      "cell_type": "code",
      "metadata": {
        "id": "9Ur-MaRD0ZnJ",
        "colab_type": "code",
        "outputId": "5831abb2-df2a-4532-c519-66e217d4c604",
        "colab": {
          "base_uri": "https://localhost:8080/",
          "height": 53
        }
      },
      "source": [
        "# BFS, 계층적으로 확장\n",
        "num=int(input())\n",
        "depth=0\n",
        "def make_list(arr):\n",
        "    num_list=[]\n",
        "    for i in arr:\n",
        "        if i%3==0:\n",
        "            num_list.append(i//3)\n",
        "        if i%2==0:\n",
        "            num_list.append(i//2)\n",
        "        num_list.append(i-1)\n",
        "    return num_list\n",
        "if num==1:\n",
        "    print(depth)\n",
        "else:\n",
        "    num_list=make_list([num])\n",
        "    depth=1\n",
        "    while True:\n",
        "    \n",
        "        if 1 in num_list:\n",
        "            print(depth)\n",
        "            break\n",
        "        temp=[]\n",
        "        temp=make_list(num_list)\n",
        "        num_list=temp\n",
        "        depth+=1\n",
        "        "
      ],
      "execution_count": 0,
      "outputs": [
        {
          "output_type": "stream",
          "text": [
            "10\n",
            "3\n"
          ],
          "name": "stdout"
        }
      ]
    },
    {
      "cell_type": "markdown",
      "metadata": {
        "id": "b6TD1Oaf9avP",
        "colab_type": "text"
      },
      "source": [
        "##Bottom-up"
      ]
    },
    {
      "cell_type": "code",
      "metadata": {
        "id": "b4jDTd4E9dLo",
        "colab_type": "code",
        "outputId": "85c17a33-8853-4299-ec53-7cdc1d89b4da",
        "colab": {
          "base_uri": "https://localhost:8080/",
          "height": 53
        }
      },
      "source": [
        "num=int(input())\n",
        "depth=0\n",
        "def make_list2(arr,n):\n",
        "    num_list=[]\n",
        "    for i in arr:\n",
        "        if n>=i*3:\n",
        "            num_list.append(i*3)\n",
        "        if n>=i*2:\n",
        "            num_list.append(i*2)\n",
        "        num_list.append(i+1)\n",
        "    return list(set(num_list))\n",
        "if num==1:\n",
        "    print(depth)\n",
        "else:\n",
        "    num_list=make_list2([1],num)\n",
        "    depth+=1\n",
        "  \n",
        "    while True:\n",
        "        if num in num_list:\n",
        "            print(depth)\n",
        "            break\n",
        "        temp=[]\n",
        "        temp=make_list2(num_list,num)\n",
        "        num_list=temp\n",
        "        depth+=1\n"
      ],
      "execution_count": 0,
      "outputs": [
        {
          "output_type": "stream",
          "text": [
            "10\n",
            "3\n"
          ],
          "name": "stdout"
        }
      ]
    },
    {
      "cell_type": "markdown",
      "metadata": {
        "id": "AaPmCfcliPrB",
        "colab_type": "text"
      },
      "source": [
        "# 2 x n 타일링 (11726)"
      ]
    },
    {
      "cell_type": "code",
      "metadata": {
        "id": "6wkbZVK9dnHV",
        "colab_type": "code",
        "outputId": "a109f71d-8d60-4b04-e5c4-0c81350049a1",
        "colab": {
          "base_uri": "https://localhost:8080/",
          "height": 53
        }
      },
      "source": [
        "# 재귀함수 사용 => 시간초과, 저장필요\n",
        "def tiling(num):\n",
        "    if num==1:\n",
        "        return 1\n",
        "    elif num==2:\n",
        "        return 3\n",
        "    else:\n",
        "        return 2*tiling(num-2)+tiling(num-1)\n",
        "num=int(input())\n",
        "print(tiling(num))"
      ],
      "execution_count": 0,
      "outputs": [
        {
          "output_type": "stream",
          "text": [
            "12\n",
            "2731\n"
          ],
          "name": "stdout"
        }
      ]
    },
    {
      "cell_type": "markdown",
      "metadata": {
        "id": "tSuwtka6kSv4",
        "colab_type": "text"
      },
      "source": [
        "##Bottom up"
      ]
    },
    {
      "cell_type": "code",
      "metadata": {
        "id": "gdsq6nFwkUP6",
        "colab_type": "code",
        "outputId": "a2d4c811-b590-4d15-b41f-05b13cac9b52",
        "colab": {
          "base_uri": "https://localhost:8080/",
          "height": 53
        }
      },
      "source": [
        "num=int(input())\n",
        "def tiling(num):\n",
        "    tile_list=[]\n",
        "    for i in range(0,num+1):\n",
        "        if i==0 or i==1:\n",
        "            tile_list.append(1)\n",
        "        else:\n",
        "            tile_list.append(tile_list[i-2]*2+tile_list[i-1])\n",
        "    return tile_list[num]\n",
        "print(tiling(num))\n"
      ],
      "execution_count": 0,
      "outputs": [
        {
          "output_type": "stream",
          "text": [
            "12\n",
            "2731\n"
          ],
          "name": "stdout"
        }
      ]
    },
    {
      "cell_type": "markdown",
      "metadata": {
        "id": "1NCIBUktnwhR",
        "colab_type": "text"
      },
      "source": [
        "# 1,2,3 더하기 (11727)"
      ]
    },
    {
      "cell_type": "markdown",
      "metadata": {
        "id": "zuLA5LA-n4iP",
        "colab_type": "text"
      },
      "source": [
        "##Bottom up"
      ]
    },
    {
      "cell_type": "code",
      "metadata": {
        "id": "sqOrGirynx9s",
        "colab_type": "code",
        "outputId": "ccd4b7f4-d88d-41fa-c6f6-f50a786f478a",
        "colab": {
          "base_uri": "https://localhost:8080/",
          "height": 53
        }
      },
      "source": [
        "num=int(input())\n",
        "def addition(num):\n",
        "    num_list=[]\n",
        "    num_list.append(0)\n",
        "    num_list.append(1)\n",
        "    num_list.append(2)\n",
        "    num_list.append(4)\n",
        "    if num>3:\n",
        "        for i in range(4,num+1):\n",
        "            num_list.append(num_list[i-1]+num_list[i-2]+num_list[i-3])\n",
        "    return num_list[num]\n",
        "print(addition(num))\n"
      ],
      "execution_count": 0,
      "outputs": [
        {
          "output_type": "stream",
          "text": [
            "10\n",
            "274\n"
          ],
          "name": "stdout"
        }
      ]
    },
    {
      "cell_type": "code",
      "metadata": {
        "id": "04lxLcUNqAo0",
        "colab_type": "code",
        "colab": {}
      },
      "source": [
        "## 시간초과 방지\n",
        "## jupyter에서 실행 x\n",
        "\n",
        "def addition(num):\n",
        "    num_list=[]\n",
        "    num_list.append(0)\n",
        "    num_list.append(1)\n",
        "    num_list.append(2)\n",
        "    num_list.append(4)\n",
        "    if num>3:\n",
        "        for i in range(4,num+1):\n",
        "            num_list.append(num_list[i-1]+num_list[i-2]+num_list[i-3])\n",
        "    return num_list[num]\n",
        "\n",
        "import sys\n",
        "n = int(sys.stdin.readline())\n",
        "for i in range(n):\n",
        "    num = int(sys.stdin.readline().split()[0])\n",
        "    print(addition(num))\n"
      ],
      "execution_count": 0,
      "outputs": []
    },
    {
      "cell_type": "markdown",
      "metadata": {
        "id": "COVAx6y5r0CI",
        "colab_type": "text"
      },
      "source": [
        "# 붕어빵 판매하기 (11052)"
      ]
    },
    {
      "cell_type": "code",
      "metadata": {
        "id": "0NT3pBDar3FO",
        "colab_type": "code",
        "outputId": "94f21999-3cd7-458d-b05e-5fef067bf532",
        "colab": {
          "base_uri": "https://localhost:8080/",
          "height": 71
        }
      },
      "source": [
        "num=int(input())\n",
        "costs=input().split()\n",
        "costs=[int(x) for x in costs]\n",
        "for i in range(1,num):\n",
        "    for j in range(0,i):\n",
        "        temp=costs[j]+costs[i-j-1]\n",
        "        costs[i]=max(costs[i], temp)\n",
        "print(costs[num-1])"
      ],
      "execution_count": 0,
      "outputs": [
        {
          "output_type": "stream",
          "text": [
            "10\n",
            "1 1 2 3 5 8 13 21 34 55\n",
            "55\n"
          ],
          "name": "stdout"
        }
      ]
    },
    {
      "cell_type": "markdown",
      "metadata": {
        "id": "y_viNpUYx1EB",
        "colab_type": "text"
      },
      "source": [
        "#**쉬운 계단 수** (10844)"
      ]
    },
    {
      "cell_type": "code",
      "metadata": {
        "id": "rwS92MFHx4uV",
        "colab_type": "code",
        "outputId": "fbcbb552-4ffc-49c2-f4ee-6cb6763f0b3c",
        "colab": {
          "base_uri": "https://localhost:8080/",
          "height": 53
        }
      },
      "source": [
        "# n자리 끝이 j 계단 수 = n-1 자리 끝이 j-1 수 + n-1 자리 끝이 j+1 수 (for 1<j<9)\n",
        "# 끝자리가 0, 9일때 예외처리\n",
        "stairs=[]\n",
        "stairs.append([0,1,1,1,1,1,1,1,1,1])\n",
        "num=int(input())\n",
        "if num>1:\n",
        "    for i in range(1,num):\n",
        "        stair=[]\n",
        "        for j in range(0,10):\n",
        "            if  j==0:\n",
        "                stair.append(stairs[i-1][j+1])\n",
        "            elif j==9:\n",
        "                stair.append(stairs[i-1][j-1])\n",
        "            else:\n",
        "                stair.append(stairs[i-1][j-1]+stairs[i-1][j+1])\n",
        "        stairs.append(stair)\n",
        "\n",
        "print(sum(stairs[num-1])%1000000000)"
      ],
      "execution_count": 0,
      "outputs": [
        {
          "output_type": "stream",
          "text": [
            "2\n",
            "17\n"
          ],
          "name": "stdout"
        }
      ]
    },
    {
      "cell_type": "markdown",
      "metadata": {
        "id": "ZwKM4hhRCCqf",
        "colab_type": "text"
      },
      "source": [
        "#오르막 수(11057)"
      ]
    },
    {
      "cell_type": "code",
      "metadata": {
        "id": "JgDEtL14CABw",
        "colab_type": "code",
        "outputId": "afc376af-0e34-444d-c228-d3a01a817ace",
        "colab": {
          "base_uri": "https://localhost:8080/",
          "height": 53
        }
      },
      "source": [
        "# n자리 끝자리 j 오르막수 = n-1 끝자리 j to 9\n",
        "\n",
        "asc=[]\n",
        "asc.append([1,1,1,1,1,1,1,1,1,1])\n",
        "num=int(input())\n",
        "if num>1:\n",
        "    for i in range(1,num):\n",
        "        items=[]\n",
        "        for j in range(0,10):\n",
        "            item=0\n",
        "            for k in range(0,j+1):\n",
        "                item+=asc[i-1][k]\n",
        "            items.append(item)\n",
        "        asc.append(items)\n",
        "print(sum(asc[num-1])%10007)        "
      ],
      "execution_count": 0,
      "outputs": [
        {
          "output_type": "stream",
          "text": [
            "4\n",
            "715\n"
          ],
          "name": "stdout"
        }
      ]
    },
    {
      "cell_type": "markdown",
      "metadata": {
        "id": "1SrXe-l5pAZq",
        "colab_type": "text"
      },
      "source": [
        "# 이친수 (2193)"
      ]
    },
    {
      "cell_type": "code",
      "metadata": {
        "id": "ITgmUA00pMcC",
        "colab_type": "code",
        "outputId": "ebc39573-a1a3-4f20-ab83-7d128373e909",
        "colab": {
          "base_uri": "https://localhost:8080/",
          "height": 53
        }
      },
      "source": [
        "# n자리 이친수 끝자리 1 => n-1 이친수 끝자리 0, n자리 이친수 끝자리 0 => n-1 이친수 끝자리 0 or 1\n",
        "bins=[]\n",
        "bins.append([0,1])\n",
        "num=int(input())\n",
        "if num>1:\n",
        "    for i in range(1,num):\n",
        "        items=[]\n",
        "        for j in range(0,2):\n",
        "            if j==0:\n",
        "                items.append(bins[i-1][0]+bins[i-1][1])\n",
        "            else:\n",
        "                items.append(bins[i-1][0])\n",
        "        bins.append(items)\n",
        "print(sum(bins[num-1]))"
      ],
      "execution_count": 0,
      "outputs": [
        {
          "output_type": "stream",
          "text": [
            "3\n",
            "2\n"
          ],
          "name": "stdout"
        }
      ]
    },
    {
      "cell_type": "markdown",
      "metadata": {
        "id": "DrswXxJQqiMK",
        "colab_type": "text"
      },
      "source": [
        "#스티커 (9465)"
      ]
    },
    {
      "cell_type": "code",
      "metadata": {
        "id": "J55QhgwVfjet",
        "colab_type": "code",
        "colab": {}
      },
      "source": [
        "## 시간초과 방지\n",
        "## jupyter에서 실행 x\n",
        "import sys\n",
        "num = int(sys.stdin.readline())\n",
        "for i in range(num):\n",
        "    costs=[]\n",
        "    n=int(input())\n",
        "    for j in range(0,2):\n",
        "        cost=sys.stdin.readline().split()\n",
        "        cost=[int(x) for x in cost]\n",
        "        costs.append(cost)\n",
        "    # [x, u, d]\n",
        "    #initial\n",
        "    values = []\n",
        "    values.append([0, costs[0][0], costs[1][0]])\n",
        "    for k in range (1, n):\n",
        "        value=[]\n",
        "        # 안뜯었을 때\n",
        "        value.append(max(values[k-1][0],values[k-1][1], values[k-1][2]))\n",
        "        # 위쪽 뜯었을 때\n",
        "        value.append(max(values[k-1][0],values[k-1][2])+costs[0][k])\n",
        "        # 아래쪽 뜯었을 때\n",
        "        value.append(max(values[k-1][0],values[k-1][1])+costs[1][k])\n",
        "        values.append(value)\n",
        "   \n",
        "    print(max(values[n-1]))\n"
      ],
      "execution_count": 0,
      "outputs": []
    },
    {
      "cell_type": "markdown",
      "metadata": {
        "id": "D73Nib__WQrm",
        "colab_type": "text"
      },
      "source": [
        "# 포도주 시식 (2156)"
      ]
    },
    {
      "cell_type": "code",
      "metadata": {
        "id": "ic639zhticPv",
        "colab_type": "code",
        "colab": {}
      },
      "source": [
        "## 시간초과 방지\n",
        "## jupyter에서 실행 x\n",
        "\n",
        "# 0잔, 1잔, 2잔\n",
        "\n",
        "import sys\n",
        "num = int(sys.stdin.readline())\n",
        "L=[]\n",
        "for i in range(num):\n",
        "    L.append(int(sys.stdin.readline()))\n",
        "drinks=[]\n",
        "drinks.append([0,L[0],L[0]])\n",
        "for i in range(1,num):\n",
        "    drink=[]\n",
        "    drink.append(max(drinks[i-1]))\n",
        "    drink.append(drinks[i-1][0]+L[i])\n",
        "    drink.append(drinks[i-1][1]+L[i])\n",
        "    drinks.append(drink)\n",
        "print(max(drinks[num-1]))\n"
      ],
      "execution_count": 0,
      "outputs": []
    },
    {
      "cell_type": "markdown",
      "metadata": {
        "id": "a_Gr7evGjadk",
        "colab_type": "text"
      },
      "source": [
        "# 가장 긴 증가하는 부분 수열 (11053)"
      ]
    },
    {
      "cell_type": "code",
      "metadata": {
        "id": "M_6ZQzX5i0Uf",
        "colab_type": "code",
        "outputId": "12f2edba-81b1-4c86-8468-be730470196a",
        "colab": {
          "base_uri": "https://localhost:8080/",
          "height": 71
        }
      },
      "source": [
        "n=int(input())\n",
        "num_array=input().split()\n",
        "num_array=[int(x) for x in num_array]\n",
        "\n",
        "# i번째를 끝으로 했을 때 수열의 길이를 구한 후 최대 값을 출력\n",
        "result = [1] * n\n",
        "for i in range(1, n):\n",
        "    for j in range(i):\n",
        "        if num_array[j] < num_array[i]:\n",
        "            result[i] = max(result[i], result[j]+1)\n",
        "\n",
        "print(max(result))"
      ],
      "execution_count": 0,
      "outputs": [
        {
          "output_type": "stream",
          "text": [
            "6\n",
            "10 20 20 30 20 50\n",
            "4\n"
          ],
          "name": "stdout"
        }
      ]
    },
    {
      "cell_type": "markdown",
      "metadata": {
        "id": "M_XjAxLx4ipL",
        "colab_type": "text"
      },
      "source": [
        "#가장 큰 증가하는 부분 수열 (11055)"
      ]
    },
    {
      "cell_type": "code",
      "metadata": {
        "id": "ewLw7YpKqIET",
        "colab_type": "code",
        "outputId": "e3ffe6ab-75f4-45d3-a950-5f752f7c048a",
        "colab": {
          "base_uri": "https://localhost:8080/",
          "height": 71
        }
      },
      "source": [
        "n=int(input())\n",
        "num_array=input().split()\n",
        "num_array=[int(x) for x in num_array]\n",
        "\n",
        "# i번째를 끝으로 했을 때 수열의 길이를 구한 후 최대 값을 출력\n",
        "import copy\n",
        "result=copy.deepcopy(num_array)\n",
        "for i in range(1, n):\n",
        "    for j in range(i):\n",
        "        if num_array[j] < num_array[i]:\n",
        "            result[i] = max(result[i], result[j]+num_array[i])\n",
        "\n",
        "print(max(result))"
      ],
      "execution_count": 0,
      "outputs": [
        {
          "output_type": "stream",
          "text": [
            "10\n",
            "1 100 2 50 60 3 5 6 7 8\n",
            "113\n"
          ],
          "name": "stdout"
        }
      ]
    },
    {
      "cell_type": "markdown",
      "metadata": {
        "id": "C1HLNrF49LKk",
        "colab_type": "text"
      },
      "source": [
        "# 가장 긴 감소하는 부분 수열 (11722)"
      ]
    },
    {
      "cell_type": "code",
      "metadata": {
        "id": "SBzVr0QN9jXq",
        "colab_type": "code",
        "outputId": "910bd2bc-bcda-46ee-dc62-d768e63aa5b4",
        "colab": {
          "base_uri": "https://localhost:8080/",
          "height": 71
        }
      },
      "source": [
        "n=int(input())\n",
        "num_array=input().split()\n",
        "num_array=[int(x) for x in num_array]\n",
        "\n",
        "# i번째를 끝으로 했을 때 수열의 길이를 구한 후 최대 값을 출력\n",
        "result = [1] * n\n",
        "for i in range(1, n):\n",
        "    for j in range(i):\n",
        "        if num_array[j] > num_array[i]:\n",
        "            result[i] = max(result[i], result[j]+1)\n",
        "\n",
        "print(max(result))"
      ],
      "execution_count": 0,
      "outputs": [
        {
          "output_type": "stream",
          "text": [
            "6\n",
            "10 30 10 20 20 10\n",
            "3\n"
          ],
          "name": "stdout"
        }
      ]
    },
    {
      "cell_type": "markdown",
      "metadata": {
        "id": "rvf_6Dcu-nv7",
        "colab_type": "text"
      },
      "source": [
        "#가장 긴 바이토닉 부분 수열 분류 (11054)\n"
      ]
    },
    {
      "cell_type": "code",
      "metadata": {
        "id": "4Hutuat6-qe-",
        "colab_type": "code",
        "outputId": "d59b35dc-2889-4212-ba43-df9d0e6f10c4",
        "colab": {
          "base_uri": "https://localhost:8080/",
          "height": 71
        }
      },
      "source": [
        "n=int(input())\n",
        "num_array=input().split()\n",
        "num_array=[int(x) for x in num_array]\n",
        "\n",
        "# i번째를 끝으로 했을 때 수열의 길이를 구한 후 최대 값을 출력\n",
        "result1 = [1] * n\n",
        "result2 = [0] * n\n",
        "for i in range(1, n):\n",
        "    for j in range(i):\n",
        "        #증가파트\n",
        "        if num_array[j] < num_array[i]:\n",
        "            result1[i] = max(result1[i], result1[j]+1)\n",
        "        #감소파트\n",
        "        if num_array[n-j-1] < num_array[n-i-1]:\n",
        "            result2[n-i-1] = max(result2[n-i-1], result2[n-j-1]+1)\n",
        "result=[0]*n\n",
        "for i in range(n):\n",
        "    result[i]=result1[i]+result2[i]\n",
        "print(max(result))"
      ],
      "execution_count": 0,
      "outputs": [
        {
          "output_type": "stream",
          "text": [
            "10\n",
            "1 5 2 1 4 3 4 5 2 1\n",
            "7\n"
          ],
          "name": "stdout"
        }
      ]
    },
    {
      "cell_type": "markdown",
      "metadata": {
        "id": "gFIEw-uqJb1d",
        "colab_type": "text"
      },
      "source": [
        "#연속합 (1912)"
      ]
    },
    {
      "cell_type": "code",
      "metadata": {
        "id": "DqEdVHYeJbRz",
        "colab_type": "code",
        "colab": {
          "base_uri": "https://localhost:8080/",
          "height": 71
        },
        "outputId": "49ed2b86-bc8b-4d37-fe2c-40fed117f29a"
      },
      "source": [
        "n=int(input())\n",
        "num_array=input().split()\n",
        "num_array=[int(x) for x in num_array]\n",
        "\n",
        "# i번째를 끝으로 했을 때 최대 연속합\n",
        "result=[num_array[0]]\n",
        "for i in range(1,n):\n",
        "    result.append(max(result[i-1]+num_array[i],num_array[i]))\n",
        "print(max(result))"
      ],
      "execution_count": 3,
      "outputs": [
        {
          "output_type": "stream",
          "text": [
            "10\n",
            "10 -4 3 1 5 6 -35 12 21 -1\n",
            "33\n"
          ],
          "name": "stdout"
        }
      ]
    },
    {
      "cell_type": "markdown",
      "metadata": {
        "id": "CcVylKCkLkVx",
        "colab_type": "text"
      },
      "source": [
        "#계단 오르기 (2579)"
      ]
    },
    {
      "cell_type": "code",
      "metadata": {
        "id": "EK3YUuI_K_Hd",
        "colab_type": "code",
        "colab": {
          "base_uri": "https://localhost:8080/",
          "height": 161
        },
        "outputId": "a68b54f5-d92d-4cae-8b6a-f1121e96db36"
      },
      "source": [
        "n=int(input())\n",
        "num_array=[]\n",
        "for i in range(n):\n",
        "    num=int(input())\n",
        "    num_array.append(num)\n",
        "\n",
        "# i번째를 끝으로 했을 때 최대 계단오르기 점수\n",
        "result=[[0,num_array[0],num_array[0]]]\n",
        "for i in range(1,n):\n",
        "    result.append([max(result[i-1][1],result[i-1][2]), result[i-1][0]+num_array[i], result[i-1][1]+num_array[i]])\n",
        "print(max(result[n-1][1],result[n-1][2]))"
      ],
      "execution_count": 8,
      "outputs": [
        {
          "output_type": "stream",
          "text": [
            "6\n",
            "10\n",
            "20\n",
            "15\n",
            "25\n",
            "10\n",
            "20\n",
            "75\n"
          ],
          "name": "stdout"
        }
      ]
    },
    {
      "cell_type": "markdown",
      "metadata": {
        "id": "oeFKFb0Bjwh6",
        "colab_type": "text"
      },
      "source": [
        "#제곱수의 합(1699)"
      ]
    },
    {
      "cell_type": "code",
      "metadata": {
        "id": "0DCva6KNde_E",
        "colab_type": "code",
        "colab": {
          "base_uri": "https://localhost:8080/",
          "height": 53
        },
        "outputId": "5ac5c30c-5ad3-4a3d-ec2d-3ac5d1a48024"
      },
      "source": [
        "num=int(input())\n",
        "result=list(range(num+1))\n",
        "for i in range(1,num+1):\n",
        "    j=1\n",
        "    while i>=j*j:\n",
        "        if result[i]>result[i-j*j]+1:\n",
        "            result[i]=result[i-j*j]+1\n",
        "        j+=1\n",
        "result[num]"
      ],
      "execution_count": 23,
      "outputs": [
        {
          "output_type": "stream",
          "text": [
            "7\n"
          ],
          "name": "stdout"
        },
        {
          "output_type": "execute_result",
          "data": {
            "text/plain": [
              "4"
            ]
          },
          "metadata": {
            "tags": []
          },
          "execution_count": 23
        }
      ]
    },
    {
      "cell_type": "markdown",
      "metadata": {
        "id": "7Hdx4bgMLvQC",
        "colab_type": "text"
      },
      "source": [
        "# 타일 채우기 (2133)"
      ]
    },
    {
      "cell_type": "code",
      "metadata": {
        "id": "5MrfYpTilVN2",
        "colab_type": "code",
        "colab": {
          "base_uri": "https://localhost:8080/",
          "height": 53
        },
        "outputId": "668e6df3-d8dc-47a3-e355-38082bf2e95d"
      },
      "source": [
        "# 3xn 타일 채우기, n이 짝수일때만 가능\n",
        "num=int(input())\n",
        "\n",
        "num_list=[1]\n",
        "n=num//2\n",
        "\n",
        "for i in range (1, n+1):\n",
        "    num_list.append(3*num_list[i-1])\n",
        "    if i>=2:\n",
        "        for j in range(2, i+1):\n",
        "            num_list[i]+=2*num_list[i-j]\n",
        "num_list[0]=0\n",
        "if num%2!=0:\n",
        "    print(0)\n",
        "else:\n",
        "    print(num_list[n])"
      ],
      "execution_count": 62,
      "outputs": [
        {
          "output_type": "stream",
          "text": [
            "3\n",
            "0\n"
          ],
          "name": "stdout"
        }
      ]
    },
    {
      "cell_type": "markdown",
      "metadata": {
        "id": "SXG_lhIZT-1B",
        "colab_type": "text"
      },
      "source": [
        "#파도반 수열(9461)"
      ]
    },
    {
      "cell_type": "code",
      "metadata": {
        "id": "N1h6GNSUUAu_",
        "colab_type": "code",
        "colab": {
          "base_uri": "https://localhost:8080/",
          "height": 107
        },
        "outputId": "48266807-a3c0-4e8c-9cc7-39dbde86fca2"
      },
      "source": [
        "n=int(input())\n",
        "for i in range(n):\n",
        "    num=int(input())\n",
        "    if num==0:\n",
        "        print(0)\n",
        "\n",
        "    else:\n",
        "        result=[1,1,1,2,2]\n",
        "        if num<=5:\n",
        "            print(result[num-1])\n",
        "        else:\n",
        "            for j in range(5,num):\n",
        "                result.append(result[j-1]+result[j-5])\n",
        "            print(result[num-1])"
      ],
      "execution_count": 84,
      "outputs": [
        {
          "output_type": "stream",
          "text": [
            "2\n",
            "3\n",
            "1\n",
            "1\n",
            "1\n"
          ],
          "name": "stdout"
        }
      ]
    },
    {
      "cell_type": "markdown",
      "metadata": {
        "id": "ys2zzjPGYUj7",
        "colab_type": "text"
      },
      "source": [
        "#합분해(2225)"
      ]
    },
    {
      "cell_type": "code",
      "metadata": {
        "id": "VlehoYdZVs6R",
        "colab_type": "code",
        "colab": {
          "base_uri": "https://localhost:8080/",
          "height": 53
        },
        "outputId": "29e84356-412e-48a9-8f27-4cbbb9f4891b"
      },
      "source": [
        "n, k = map(int,input().split())\n",
        "mod = 1000000000\n",
        "dp = [[0]*(n+1) for _ in range(k+1)]\n",
        "dp[0][0] = 1\n",
        "\n",
        "# dp[K][N] = dp[K-1][0]+dp[K-1][1]+ ... +dp[K-1][N-1]+dp[K-1][N] => O(KN^2)\n",
        "# dp[K][N-1] = dp[K-1][0]+ ... +dp[K-1][N-1] 을 위 식에 대임\n",
        "# dp[K][N] = dp[K][N-1]+dp[K-1][N] => O(KN)\n",
        "for i in range(1, k+1):\n",
        "    for j in range(n+1):\n",
        "        dp[i][j] = dp[i-1][j] + dp[i][j-1]\n",
        "        dp[i][j] %= mod\n",
        "print(dp[k][n])"
      ],
      "execution_count": 4,
      "outputs": [
        {
          "output_type": "stream",
          "text": [
            "20 2\n",
            "21\n"
          ],
          "name": "stdout"
        }
      ]
    },
    {
      "cell_type": "markdown",
      "metadata": {
        "id": "09sTitX6Vheq",
        "colab_type": "text"
      },
      "source": [
        "# 암호코드 (2011)"
      ]
    },
    {
      "cell_type": "code",
      "metadata": {
        "id": "sL98ZGC3VrCX",
        "colab_type": "code",
        "colab": {
          "base_uri": "https://localhost:8080/",
          "height": 53
        },
        "outputId": "7fb959e3-5b5e-4b87-d700-d707a2977f0d"
      },
      "source": [
        "num=input()\n",
        "dp=[[0]*2 for _ in range(len(num)+1)]\n",
        "dp[0][0]=1\n",
        "dp[1][0]=1\n",
        "if num[0]=='0':\n",
        "    print(0)\n",
        "else:\n",
        "    for i in range(2,len(num)+1):\n",
        "        if num[i-1]!='0':\n",
        "            dp[i][0]=sum(dp[i-1])\n",
        "\n",
        "        if num[i-2:i] <='26' and num[i-2:i]>='10':\n",
        "            dp[i][1]=sum(dp[i-2])\n",
        "    dp[0][0]=0\n",
        "    print(sum(dp[len(num)])%1000000)"
      ],
      "execution_count": 36,
      "outputs": [
        {
          "output_type": "stream",
          "text": [
            "10\n",
            "1\n"
          ],
          "name": "stdout"
        }
      ]
    }
  ]
}