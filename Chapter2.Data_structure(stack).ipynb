{
  "nbformat": 4,
  "nbformat_minor": 0,
  "metadata": {
    "colab": {
      "name": "Data_structure(stack).ipynb",
      "provenance": [],
      "collapsed_sections": [],
      "authorship_tag": "ABX9TyNU14auEkIegrYzryaiCXjP",
      "include_colab_link": true
    },
    "kernelspec": {
      "name": "python3",
      "display_name": "Python 3"
    }
  },
  "cells": [
    {
      "cell_type": "markdown",
      "metadata": {
        "id": "view-in-github",
        "colab_type": "text"
      },
      "source": [
        "<a href=\"https://colab.research.google.com/github/minddo/Algorithm_practice/blob/master/Data_structure(stack).ipynb\" target=\"_parent\"><img src=\"https://colab.research.google.com/assets/colab-badge.svg\" alt=\"Open In Colab\"/></a>"
      ]
    },
    {
      "cell_type": "markdown",
      "metadata": {
        "id": "BSkG2TmG-OiI",
        "colab_type": "text"
      },
      "source": [
        "# 스택 (10828)"
      ]
    },
    {
      "cell_type": "code",
      "metadata": {
        "id": "BnMXHMbZ9B4I",
        "colab_type": "code",
        "colab": {}
      },
      "source": [
        "class Stack():\n",
        "    def __init__(self):\n",
        "        self.items=[]\n",
        "    def push(self, item):\n",
        "        self.items.append(item)\n",
        "    def pop(self):\n",
        "        if self.size()!=0:\n",
        "            return self.items.pop()\n",
        "        else:\n",
        "            return -1\n",
        "    def size(self):\n",
        "        return len(self.items)\n",
        "        \n",
        "    def empty(self):\n",
        "        if self.size()==0:\n",
        "            return 1\n",
        "        else:\n",
        "            return 0\n",
        "    def top(self):\n",
        "        if self.size()==0:\n",
        "            return -1\n",
        "        else:\n",
        "            return self.items[-1]\n",
        "\n",
        "#print forward\n",
        "    def all_items(self):\n",
        "        if self.size!=0:\n",
        "            for item in self.items:\n",
        "                print(item, end='')"
      ],
      "execution_count": 0,
      "outputs": []
    },
    {
      "cell_type": "code",
      "metadata": {
        "id": "4Vwm39QvAprz",
        "colab_type": "code",
        "outputId": "c1955837-8d7b-4229-9fcc-5297e9bfde83",
        "colab": {
          "base_uri": "https://localhost:8080/",
          "height": 125
        }
      },
      "source": [
        "stack=Stack()\n",
        "num=int(input())\n",
        "for i in range(num):\n",
        "    oper=input()\n",
        "    if \"push\" in oper:\n",
        "        item=int(oper.split()[1])\n",
        "        stack.push(item)\n",
        "    elif oper==\"pop\":3\n",
        "        print(stack.pop())\n",
        "    elif oper==\"size\":\n",
        "        print(stack.size())\n",
        "    elif oper==\"empty\":\n",
        "        print(stack.empty())\n",
        "    elif oper==\"top\":\n",
        "        print(stack.top())"
      ],
      "execution_count": 0,
      "outputs": [
        {
          "output_type": "stream",
          "text": [
            "3\n",
            "push 1\n",
            "pop\n",
            "1\n",
            "pop\n",
            "-1\n"
          ],
          "name": "stdout"
        }
      ]
    },
    {
      "cell_type": "code",
      "metadata": {
        "id": "7-fJk0Eh46rd",
        "colab_type": "code",
        "colab": {}
      },
      "source": [
        "# 입출력 시간으로 인하여 시간초과가 뜨는 것을 발견!!\n",
        "# notebook에서는 complie 되지 않지만 std.readline 함수 사용"
      ],
      "execution_count": 0,
      "outputs": []
    },
    {
      "cell_type": "code",
      "metadata": {
        "id": "Un1yrqWp5Kwd",
        "colab_type": "code",
        "colab": {}
      },
      "source": [
        "stack=Stack()\n",
        "import sys\n",
        "num = int(sys.stdin.readline())\n",
        "for i in range(num):\n",
        "    oper = sys.stdin.readline().split()\n",
        "    if oper[0]==\"push\":\n",
        "        item=int(oper[1])\n",
        "        stack.push(item)\n",
        "    elif oper[0]==\"pop\":\n",
        "        print(stack.pop())\n",
        "    elif oper[0]==\"size\":\n",
        "        print(stack.size())\n",
        "    elif oper[0]==\"empty\":\n",
        "        print(stack.empty())\n",
        "    elif oper[0]==\"top\":\n",
        "        print(stack.top())"
      ],
      "execution_count": 0,
      "outputs": []
    },
    {
      "cell_type": "markdown",
      "metadata": {
        "id": "vQ_PujMjGjvQ",
        "colab_type": "text"
      },
      "source": [
        "#괄호 (9012)"
      ]
    },
    {
      "cell_type": "code",
      "metadata": {
        "id": "gG10AhGGFIpj",
        "colab_type": "code",
        "outputId": "33c9b193-3ba2-4123-abd4-ddb406cc2035",
        "colab": {
          "base_uri": "https://localhost:8080/",
          "height": 251
        }
      },
      "source": [
        "num=int(input())\n",
        "for i in range(num):\n",
        "    items=input()\n",
        "    stack=Stack()\n",
        "    count=0\n",
        "    for item in items:\n",
        "        if item==\"(\":\n",
        "            stack.push(\"(\")\n",
        "        elif item==\")\":\n",
        "            if stack.empty()==1:\n",
        "                print(\"NO\")\n",
        "                count+=1\n",
        "                break\n",
        "            else:\n",
        "                stack.pop()\n",
        "    if stack.size()==0 and count==0:\n",
        "        print(\"YES\")\n",
        "    elif stack.size()!=0 and count==0:\n",
        "        print(\"NO\")\n"
      ],
      "execution_count": 0,
      "outputs": [
        {
          "output_type": "stream",
          "text": [
            "6\n",
            "()))())\n",
            "NO\n",
            "(((()())()\n",
            "NO\n",
            "(()())((()))\n",
            "YES\n",
            "())\n",
            "NO\n",
            "((())()\n",
            "NO\n",
            "()()(())\n",
            "YES\n"
          ],
          "name": "stdout"
        }
      ]
    },
    {
      "cell_type": "markdown",
      "metadata": {
        "id": "WFPG6FuRJcaj",
        "colab_type": "text"
      },
      "source": [
        "#쇠막대기 (10799)"
      ]
    },
    {
      "cell_type": "code",
      "metadata": {
        "id": "r5dTeHIzJe76",
        "colab_type": "code",
        "outputId": "0bacac36-1845-4654-dd06-1b310aec39f3",
        "colab": {
          "base_uri": "https://localhost:8080/",
          "height": 53
        }
      },
      "source": [
        "items=input()\n",
        "num=0\n",
        "stack=Stack()\n",
        "for i in range(len(items)):\n",
        "    item=items[i]\n",
        "    if item==\"(\":\n",
        "        prev=i\n",
        "        stack.push(\"(\")\n",
        "    elif item==\")\":\n",
        "        stack.pop()\n",
        "        if i-prev==1:\n",
        "            num+=stack.size()\n",
        "        else:\n",
        "            num+=1\n",
        "\n",
        "print(num)"
      ],
      "execution_count": 0,
      "outputs": [
        {
          "output_type": "stream",
          "text": [
            "(((()(()()))(())()))(()())\n",
            "24\n"
          ],
          "name": "stdout"
        }
      ]
    },
    {
      "cell_type": "markdown",
      "metadata": {
        "id": "fliVyCkiPfp5",
        "colab_type": "text"
      },
      "source": [
        "#에디터 (1406)"
      ]
    },
    {
      "cell_type": "code",
      "metadata": {
        "id": "PdPR91cdPhQ3",
        "colab_type": "code",
        "outputId": "6001061f-5d49-4713-8708-6861b7177000",
        "colab": {
          "base_uri": "https://localhost:8080/",
          "height": 233
        }
      },
      "source": [
        "right=Stack()\n",
        "left=Stack()\n",
        "items=input()\n",
        "num=int(input())\n",
        "for item in items:\n",
        "    left.push(item)\n",
        "for i in range(num):\n",
        "    oper=input()\n",
        "    if oper==\"L\":\n",
        "        if left.size()!=0:\n",
        "            item=left.pop()\n",
        "            right.push(item)\n",
        "    elif oper==\"D\":\n",
        "        if right.size()!=0:\n",
        "            item=right.pop()\n",
        "            left.push(item)\n",
        "    elif oper==\"B\":\n",
        "        if left.size()!=0:\n",
        "            left.pop()\n",
        "    elif oper[0]==\"P\":\n",
        "        left.push(oper.split()[1])\n",
        "\n",
        "left.all_items()\n",
        "while right.size()!=0:\n",
        "    print(right.pop(), end='')\n",
        "\n",
        "\"\"\"\n",
        "while left.size()!=0:\n",
        "    right.push(left.pop())\n",
        "while right.size()!=0:\n",
        "    print(right.pop(), end='')\n",
        "    \"\"\"\n",
        "# 시간초과... ㄷㄷ"
      ],
      "execution_count": 0,
      "outputs": [
        {
          "output_type": "stream",
          "text": [
            "abc\n",
            "9\n",
            "L\n",
            "L\n",
            "L\n",
            "L\n",
            "L\n",
            "P x\n",
            "L\n",
            "B\n",
            "P y\n",
            "yxabc"
          ],
          "name": "stdout"
        }
      ]
    },
    {
      "cell_type": "code",
      "metadata": {
        "id": "6qBUS1Fv5M8V",
        "colab_type": "code",
        "colab": {}
      },
      "source": [
        "# 시간초과 방지를 위해 stdin 사용\n",
        "# notebook에서는 compile 되지 않음\n",
        "import sys\n",
        "right=Stack()\n",
        "left=Stack()\n",
        "items=input()\n",
        "for item in items:\n",
        "    left.push(item)\n",
        "num = int(sys.stdin.readline())\n",
        "for i in range(num):\n",
        "    oper = sys.stdin.readline().split()\n",
        "    if oper[0]==\"L\":\n",
        "        if left.size()!=0:\n",
        "            item=left.pop()\n",
        "            right.push(item)\n",
        "    elif oper[0]==\"D\":\n",
        "        if right.size()!=0:\n",
        "            item=right.pop()\n",
        "            left.push(item)\n",
        "    elif oper[0]==\"B\":\n",
        "        if left.size()!=0:\n",
        "            left.pop()\n",
        "    elif oper[0]==\"P\":\n",
        "        left.push(oper[1])\n",
        "\n",
        "left.all_items()\n",
        "while right.size()!=0:\n",
        "    print(right.pop(), end='')"
      ],
      "execution_count": 0,
      "outputs": []
    }
  ]
}
