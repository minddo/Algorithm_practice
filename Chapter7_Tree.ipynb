{
  "nbformat": 4,
  "nbformat_minor": 0,
  "metadata": {
    "colab": {
      "name": "Chapter7_Tree.ipynb",
      "provenance": [],
      "authorship_tag": "ABX9TyOpnODJmdDrfx7wTwSVtpHa",
      "include_colab_link": true
    },
    "kernelspec": {
      "name": "python3",
      "display_name": "Python 3"
    }
  },
  "cells": [
    {
      "cell_type": "markdown",
      "metadata": {
        "id": "view-in-github",
        "colab_type": "text"
      },
      "source": [
        "<a href=\"https://colab.research.google.com/github/minddo/Algorithm_practice/blob/master/Chapter7_Tree.ipynb\" target=\"_parent\"><img src=\"https://colab.research.google.com/assets/colab-badge.svg\" alt=\"Open In Colab\"/></a>"
      ]
    },
    {
      "cell_type": "markdown",
      "metadata": {
        "id": "fpHPj7CH2Jir",
        "colab_type": "text"
      },
      "source": [
        "# 트리순환 (1991)"
      ]
    },
    {
      "cell_type": "code",
      "metadata": {
        "id": "6GtU1LyWu3ak",
        "colab_type": "code",
        "colab": {}
      },
      "source": [
        "import sys\n",
        "from collections import deque\n",
        "\n",
        "sys.setrecursionlimit(10**6)\n",
        "def preorder(node):\n",
        "    if node == '.':\n",
        "        return\n",
        "    print(node, end = \"\")\n",
        "    preorder(tree[node][0])\n",
        "    preorder(tree[node][1])\n",
        "\n",
        "def inorder(node):\n",
        "    if node == '.':\n",
        "        return\n",
        "    inorder(tree[node][0])\n",
        "    print(node, end = \"\")\n",
        "    inorder(tree[node][1])\n",
        "\n",
        "def postorder(node):\n",
        "    if node == '.':\n",
        "        return\n",
        "    postorder(tree[node][0])\n",
        "    postorder(tree[node][1])\n",
        "    print(node, end = \"\")\n",
        "\n",
        "\n",
        "    \n",
        "        \n",
        "read = lambda : sys.stdin.readline().strip()\n",
        "num = int(read())\n",
        "tree={}\n",
        "for _ in range(num):\n",
        "    node,left,right = read().split()\n",
        "    tree[node]=[left,right]\n",
        "\n",
        "    \n",
        "preorder('A')\n",
        "print()\n",
        "inorder('A')\n",
        "print()\n",
        "postorder('A')\n",
        "\n"
      ],
      "execution_count": null,
      "outputs": []
    }
  ]
}