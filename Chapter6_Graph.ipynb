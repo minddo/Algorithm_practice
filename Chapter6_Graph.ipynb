{
  "nbformat": 4,
  "nbformat_minor": 0,
  "metadata": {
    "colab": {
      "name": "Chapter6_Graph.ipynb",
      "provenance": [],
      "collapsed_sections": [],
      "authorship_tag": "ABX9TyPas7QPOUIoj/B9hO+ftOov",
      "include_colab_link": true
    },
    "kernelspec": {
      "name": "python3",
      "display_name": "Python 3"
    }
  },
  "cells": [
    {
      "cell_type": "markdown",
      "metadata": {
        "id": "view-in-github",
        "colab_type": "text"
      },
      "source": [
        "<a href=\"https://colab.research.google.com/github/minddo/Algorithm_practice/blob/master/Chapter6_Graph.ipynb\" target=\"_parent\"><img src=\"https://colab.research.google.com/assets/colab-badge.svg\" alt=\"Open In Colab\"/></a>"
      ]
    },
    {
      "cell_type": "markdown",
      "metadata": {
        "id": "yCBt-rcTTwhA",
        "colab_type": "text"
      },
      "source": [
        "## DFS와 BFS (1260)"
      ]
    },
    {
      "cell_type": "code",
      "metadata": {
        "id": "lF004MpPExvF",
        "colab_type": "code",
        "colab": {
          "base_uri": "https://localhost:8080/",
          "height": 245
        },
        "outputId": "16ca8835-0339-432e-83f7-370c280daa27"
      },
      "source": [
        "# 그래프 이용\n",
        "import sys\n",
        "\n",
        "node, edge, root = map(int,sys.stdin.readline().split())\n",
        "graph={}\n",
        "for _ in range(edge):\n",
        "    src, dest = map(int,sys.stdin.readline().split())\n",
        "    if src not in graph:\n",
        "        graph[src]=[dest]\n",
        "    elif dest not in graph[src]:\n",
        "        graph[src].append(dest)\n",
        "\n",
        "\n",
        "    if dest not in graph:\n",
        "        graph[dest]=[src]\n",
        "    elif src not in graph[dest]:\n",
        "        graph[dest].append(src)\n",
        "        \n",
        "# DFS\n",
        "def DFS(graph, root):\n",
        "    visited = []\n",
        "    stack = [root]\n",
        "\n",
        "    while stack:\n",
        "        n = stack.pop()\n",
        "        if n not in visited:\n",
        "            visited.append(n)\n",
        "            if n in graph:\n",
        "                temp = list(set(graph[n]) - set(visited))\n",
        "                temp.sort(reverse=True)\n",
        "                stack += temp\n",
        "    return visited\n",
        "\n",
        "\n",
        "#BFS\n",
        "from collections import deque\n",
        "def BFS(graph, root):\n",
        "    visited = []\n",
        "    queue = deque([root])\n",
        "\n",
        "    while queue:\n",
        "        n = queue.popleft()\n",
        "        if n not in visited:\n",
        "            visited.append(n)\n",
        "            if n in graph:\n",
        "                temp = list(set(graph[n]) - set(visited))\n",
        "                temp.sort()\n",
        "                queue+=temp\n",
        "    return visited\n",
        "\n",
        "\n",
        "DFS_result=DFS(graph, root)\n",
        "BFS_result=BFS(graph, root)\n",
        "\n",
        "print(\" \".join(str(i) for i in DFS_result))\n",
        "print(\" \".join(str(i) for i in BFS_result))\n",
        "      \n"
      ],
      "execution_count": null,
      "outputs": [
        {
          "output_type": "error",
          "ename": "ValueError",
          "evalue": "ignored",
          "traceback": [
            "\u001b[0;31m---------------------------------------------------------------------------\u001b[0m",
            "\u001b[0;31mValueError\u001b[0m                                Traceback (most recent call last)",
            "\u001b[0;32m<ipython-input-1-937cde30f70d>\u001b[0m in \u001b[0;36m<module>\u001b[0;34m()\u001b[0m\n\u001b[1;32m      2\u001b[0m \u001b[0;32mimport\u001b[0m \u001b[0msys\u001b[0m\u001b[0;34m\u001b[0m\u001b[0;34m\u001b[0m\u001b[0m\n\u001b[1;32m      3\u001b[0m \u001b[0;34m\u001b[0m\u001b[0m\n\u001b[0;32m----> 4\u001b[0;31m \u001b[0mnode\u001b[0m\u001b[0;34m,\u001b[0m \u001b[0medge\u001b[0m\u001b[0;34m,\u001b[0m \u001b[0mroot\u001b[0m \u001b[0;34m=\u001b[0m \u001b[0mmap\u001b[0m\u001b[0;34m(\u001b[0m\u001b[0mint\u001b[0m\u001b[0;34m,\u001b[0m\u001b[0msys\u001b[0m\u001b[0;34m.\u001b[0m\u001b[0mstdin\u001b[0m\u001b[0;34m.\u001b[0m\u001b[0mreadline\u001b[0m\u001b[0;34m(\u001b[0m\u001b[0;34m)\u001b[0m\u001b[0;34m.\u001b[0m\u001b[0msplit\u001b[0m\u001b[0;34m(\u001b[0m\u001b[0;34m)\u001b[0m\u001b[0;34m)\u001b[0m\u001b[0;34m\u001b[0m\u001b[0;34m\u001b[0m\u001b[0m\n\u001b[0m\u001b[1;32m      5\u001b[0m \u001b[0mgraph\u001b[0m\u001b[0;34m=\u001b[0m\u001b[0;34m{\u001b[0m\u001b[0;34m}\u001b[0m\u001b[0;34m\u001b[0m\u001b[0;34m\u001b[0m\u001b[0m\n\u001b[1;32m      6\u001b[0m \u001b[0;32mfor\u001b[0m \u001b[0m_\u001b[0m \u001b[0;32min\u001b[0m \u001b[0mrange\u001b[0m\u001b[0;34m(\u001b[0m\u001b[0medge\u001b[0m\u001b[0;34m)\u001b[0m\u001b[0;34m:\u001b[0m\u001b[0;34m\u001b[0m\u001b[0;34m\u001b[0m\u001b[0m\n",
            "\u001b[0;31mValueError\u001b[0m: not enough values to unpack (expected 3, got 0)"
          ]
        }
      ]
    },
    {
      "cell_type": "markdown",
      "metadata": {
        "id": "22nYRuTbLx0G",
        "colab_type": "text"
      },
      "source": [
        "## 연결요소의 개수 (11724)"
      ]
    },
    {
      "cell_type": "code",
      "metadata": {
        "id": "pLmW7ziXqwFP",
        "colab_type": "code",
        "colab": {}
      },
      "source": [
        "#시간초과 \n",
        "import sys\n",
        "\n",
        "node, edge = map(int,sys.stdin.readline().split())\n",
        "graph={}\n",
        "for _ in range(edge):\n",
        "    src, dest = map(int,sys.stdin.readline().split())\n",
        "    if src not in graph:\n",
        "        graph[src]=[dest]\n",
        "    elif dest not in graph[src]:\n",
        "        graph[src].append(dest)\n",
        "\n",
        "\n",
        "    if dest not in graph:\n",
        "        graph[dest]=[src]\n",
        "    elif src not in graph[dest]:\n",
        "        graph[dest].append(src)\n",
        "        \n",
        "# DFS\n",
        "def DFS(graph, root):\n",
        "  \n",
        "    stack = [root]\n",
        "\n",
        "    while stack:\n",
        "        n = stack.pop()\n",
        "        if visited[n]==False:\n",
        "            visited[n]=True\n",
        "            if n in graph:\n",
        "                temp = list(set(graph[n]) - set(visited))\n",
        "\n",
        "                stack += temp\n",
        "    return visited\n",
        "\n",
        "\n",
        "\n",
        "remain=list(graph.keys())\n",
        "count=0\n",
        "visited=[False]*(node+1)\n",
        "for j in range(1, node + 1):\n",
        "    if not visited[j]:\n",
        "        DFS(j)\n",
        "        count += 1\n",
        "print(count)\n"
      ],
      "execution_count": null,
      "outputs": []
    },
    {
      "cell_type": "code",
      "metadata": {
        "id": "BgwWwxTEPhOp",
        "colab_type": "code",
        "colab": {}
      },
      "source": [
        "#인접리스트 이용\n",
        "import sys\n",
        "sys.setrecursionlimit(10000)\n",
        "\n",
        "def dfs(v):\n",
        "    result.append(v)\n",
        "    visited[v] = True\n",
        "    for e in adj[v]:\n",
        "        if not visited[e]:\n",
        "            dfs(e)\n",
        "            \n",
        "node, edge = map(int,sys.stdin.readline().split())\n",
        "result=[]\n",
        "adj = [[] for _ in range(node + 1)]\n",
        "visited = [False] * (node + 1)\n",
        "count = 0\n",
        "\n",
        "for _ in range(edge):\n",
        "    src, dest = map(int,sys.stdin.readline().split())\n",
        "    adj[src].append(dest)\n",
        "    adj[dest].append(src)\n",
        "    \n",
        "for j in range(1, node + 1):\n",
        "    if not visited[j]:\n",
        "        dfs(j)\n",
        "        count += 1\n",
        "print(count)\n"
      ],
      "execution_count": null,
      "outputs": []
    },
    {
      "cell_type": "markdown",
      "metadata": {
        "id": "37MREVVVqw8t",
        "colab_type": "text"
      },
      "source": [
        "## 이분 그래프 (1707)"
      ]
    },
    {
      "cell_type": "code",
      "metadata": {
        "id": "ZMo51ilHqzPv",
        "colab_type": "code",
        "colab": {}
      },
      "source": [
        "import sys\n",
        "from collections import deque\n",
        "\n",
        "# 인접해있는 노드끼리는 다른 색깔\n",
        "# 방문 전:0 방문 후: 1 => 인접노드 방문 *-1\n",
        "# 인접노드와 색깔이 같으면 이분 그래프가 아님\n",
        "\n",
        "def BFS(root):\n",
        "    color[root]=1\n",
        "    queue=deque()\n",
        "    queue.append(root)\n",
        "    while queue:\n",
        "        n = queue.popleft()\n",
        "        for item in adj[n]:\n",
        "            if color[item]==0:\n",
        "                color[item]=color[n]*(-1)\n",
        "                queue.append(item)\n",
        "            elif color[n]==color[item]:\n",
        "                return 1\n",
        "    return 0\n",
        "\n",
        "\n",
        "testcase = int(sys.stdin.readline())\n",
        "for _ in range(testcase):\n",
        "    node, edge = map(int,sys.stdin.readline().split())\n",
        "    color=[0]*(node+1)\n",
        "    adj=[[] for _ in range(node+1)]\n",
        "    \n",
        "    for _ in range(edge):\n",
        "        src, dest = map(int,sys.stdin.readline().split())\n",
        "        adj[src].append(dest)\n",
        "        adj[dest].append(src)\n",
        "        \n",
        "\n",
        "    ans=0\n",
        "\n",
        "    for i in range(1, node+1):\n",
        "        if color[i]==0:\n",
        "            ans=BFS(i)\n",
        "            if ans==1:\n",
        "                break\n",
        "    if ans == 0:\n",
        "        print(\"YES\")\n",
        "    else:\n",
        "        print(\"NO\")\n",
        "    \n"
      ],
      "execution_count": null,
      "outputs": []
    },
    {
      "cell_type": "markdown",
      "metadata": {
        "id": "MDs5QqJBw16r",
        "colab_type": "text"
      },
      "source": [
        "## 사이클 찾기 (10451)"
      ]
    },
    {
      "cell_type": "code",
      "metadata": {
        "id": "XwqFT55DXPO4",
        "colab_type": "code",
        "colab": {}
      },
      "source": [
        "import sys\n",
        "from collections import deque\n",
        "\n",
        "\n",
        "def dfs(root):\n",
        "    visited[root]=True\n",
        "    n=root\n",
        "    while True:\n",
        "        nx=edge[n]\n",
        "        if visited[nx-1]==False:\n",
        "            visited[nx-1]=True\n",
        "            n=nx-1\n",
        "        else:\n",
        "            return 1\n",
        "\n",
        "    \n",
        "\n",
        "testcase = int(sys.stdin.readline())\n",
        "for _ in range(testcase):\n",
        "    node=int(sys.stdin.readline())\n",
        "    edge=sys.stdin.readline().split()\n",
        "    edge=[int(i) for i in edge]\n",
        "    visited=[False]*node\n",
        "    count=0\n",
        "    for i in range(node):\n",
        "        if visited[i]==False:\n",
        "            count+=dfs(i)\n",
        "    print(count)\n"
      ],
      "execution_count": null,
      "outputs": []
    },
    {
      "cell_type": "markdown",
      "metadata": {
        "id": "W8ptv2aJXbHM",
        "colab_type": "text"
      },
      "source": [
        "# 반복수열 (2331)"
      ]
    },
    {
      "cell_type": "code",
      "metadata": {
        "id": "SEkbfSLuXhPP",
        "colab_type": "code",
        "colab": {
          "base_uri": "https://localhost:8080/",
          "height": 51
        },
        "outputId": "56df943b-41e8-4e20-ab19-fc2dd24eadc4"
      },
      "source": [
        "A,P = input().split()\n",
        "P=int(P)\n",
        "\n",
        "def next_item(A,P):\n",
        "    item=0\n",
        "    for i in range(len(A)):\n",
        "        item+=int(A[i])**P\n",
        "    return str(item)\n",
        "    \n",
        "items=[A]\n",
        "while True:\n",
        "    A=next_item(A,P)\n",
        "    if A not in items:\n",
        "        items.append(A)\n",
        "    else:\n",
        "        print(items.index(A))\n",
        "        break"
      ],
      "execution_count": null,
      "outputs": [
        {
          "output_type": "stream",
          "text": [
            "57 2\n",
            "4\n"
          ],
          "name": "stdout"
        }
      ]
    },
    {
      "cell_type": "markdown",
      "metadata": {
        "id": "URG7T9MspFQT",
        "colab_type": "text"
      },
      "source": [
        "## 텀 프로젝트 (9466)"
      ]
    },
    {
      "cell_type": "code",
      "metadata": {
        "id": "8hWK78zxgsnh",
        "colab_type": "code",
        "colab": {
          "base_uri": "https://localhost:8080/",
          "height": 197
        },
        "outputId": "ca55a008-99b7-4c02-961e-bbabfc284487"
      },
      "source": [
        "import sys\n",
        "sys.setrecursionlimit(111111) #충분한 재귀 깊이를 주어 오류를 예방\n",
        "\n",
        "\n",
        "def dfs(x):\n",
        "    global result\n",
        "    visited[x] = True\n",
        "    cycle.append(x) #사이클을 이루는 팀을 확인하기 위함\n",
        "    number = numbers[x]\n",
        "    \n",
        "    if visited[number]: #방문가능한 곳이 끝났는지\n",
        "        if number in cycle: #사이클 가능 여부\n",
        "            result += cycle[cycle.index(number):] #사이클 되는 구간 부터만 팀을 이룸\n",
        "        return\n",
        "    else:\n",
        "        dfs(number)\n",
        "\n",
        "\n",
        "for _ in range(int(input())):\n",
        "    N = int(input())\n",
        "    numbers = [0] + list(map(int, input().split()))\n",
        "    visited = [True] + [False] * N #방문 여부\n",
        "    result = []\n",
        "    \n",
        "    for i in range(1, N+1):\n",
        "        if not visited[i]: #방문 안한 곳이라면\n",
        "            cycle = []\n",
        "            dfs(i) #DFS 함수 돌림\n",
        "            \n",
        "    print(N - len(result)) #팀에 없는 사람 수"
      ],
      "execution_count": null,
      "outputs": [
        {
          "output_type": "error",
          "ename": "ValueError",
          "evalue": "ignored",
          "traceback": [
            "\u001b[0;31m---------------------------------------------------------------------------\u001b[0m",
            "\u001b[0;31mValueError\u001b[0m                                Traceback (most recent call last)",
            "\u001b[0;32m<ipython-input-1-4f4f2f2a457d>\u001b[0m in \u001b[0;36m<module>\u001b[0;34m()\u001b[0m\n\u001b[1;32m      1\u001b[0m \u001b[0;32mimport\u001b[0m \u001b[0msys\u001b[0m\u001b[0;34m\u001b[0m\u001b[0;34m\u001b[0m\u001b[0m\n\u001b[1;32m      2\u001b[0m \u001b[0;34m\u001b[0m\u001b[0m\n\u001b[0;32m----> 3\u001b[0;31m \u001b[0mtestcase\u001b[0m \u001b[0;34m=\u001b[0m \u001b[0mint\u001b[0m\u001b[0;34m(\u001b[0m\u001b[0msys\u001b[0m\u001b[0;34m.\u001b[0m\u001b[0mstdin\u001b[0m\u001b[0;34m.\u001b[0m\u001b[0mreadline\u001b[0m\u001b[0;34m(\u001b[0m\u001b[0;34m)\u001b[0m\u001b[0;34m)\u001b[0m\u001b[0;34m\u001b[0m\u001b[0;34m\u001b[0m\u001b[0m\n\u001b[0m",
            "\u001b[0;31mValueError\u001b[0m: invalid literal for int() with base 10: ''"
          ]
        }
      ]
    },
    {
      "cell_type": "markdown",
      "metadata": {
        "id": "Z-j2qftOz6-a",
        "colab_type": "text"
      },
      "source": [
        "## 단지번호붙이기 (2667)"
      ]
    },
    {
      "cell_type": "code",
      "metadata": {
        "id": "KIIjBmm6z_R1",
        "colab_type": "code",
        "colab": {}
      },
      "source": [
        "import sys\n",
        "sys.setrecursionlimit(10000)\n",
        "\n",
        "read = lambda : sys.stdin.readline().strip()\n",
        "\n",
        "n = int(read())\n",
        "\n",
        "def dfs(matrix, cnt, x,y):\n",
        "    matrix[x][y]=0\n",
        "    # 방문\n",
        "    dx = [1,-1,0,0]\n",
        "    dy = [0,0,1,-1]\n",
        "    for i in range(4):\n",
        "        n_x = x + dx[i]\n",
        "        n_y = y + dy[i]\n",
        "        # 상하좌우 이동.\n",
        "        if n_x>=0 and n_x<n and n_y>=0 and n_y<n:\n",
        "            # 범위 check 리스트를 넘어가지 않도록\n",
        "            if matrix[n_x][n_y]==1:\n",
        "            # 그부분이 1이면\n",
        "                cnt = dfs(matrix, cnt+1, n_x, n_y)\n",
        "                # cnt를 증가시키고 재귀함수\n",
        "    return cnt\n",
        "    # 다 cnt검사하면 끝을 낸다.\n",
        "\n",
        "(matrix = [list(map(int, list(read()))) for _ in range(n)]\n",
        ")# matrix에 input값 넣기\n",
        "\n",
        "ans = []\n",
        "for i in range(n):\n",
        "    for j in range(n):\n",
        "        if matrix[i][j]==1:\n",
        "            # 일단 1로 뭔가의 그룹이다.\n",
        "            ans.append(dfs(matrix, 1, i, j))\n",
        "\n",
        "print(len(ans))\n",
        "for i in sorted(ans):\n",
        "    print(i)\n"
      ],
      "execution_count": null,
      "outputs": []
    },
    {
      "cell_type": "markdown",
      "metadata": {
        "id": "7yNXYW04gFa7",
        "colab_type": "text"
      },
      "source": [
        "## 섬의 개수"
      ]
    },
    {
      "cell_type": "code",
      "metadata": {
        "id": "Ry5-QRQanLp7",
        "colab_type": "code",
        "colab": {}
      },
      "source": [
        "import sys\n",
        "sys.setrecursionlimit(10000)\n",
        "\n",
        "def dfs(matrix, cnt, x,y):\n",
        "    matrix[x][y]=0\n",
        "    # 방문\n",
        "    dx = [-1,-1,-1,0,0,1,1,1]\n",
        "    dy = [-1,0,1,-1,-1,-1,0,1]\n",
        "    for i in range(8):\n",
        "        n_x = x + dx[i]\n",
        "        n_y = y + dy[i]\n",
        "        # 상하좌우 이동.\n",
        "        if n_x>=0 and n_x<h and n_y>=0 and n_y<w:\n",
        "            # 범위 check 리스트를 넘어가지 않도록\n",
        "            if matrix[n_x][n_y]==1:\n",
        "            # 그부분이 1이면\n",
        "                cnt = dfs(matrix, cnt+1, n_x, n_y)\n",
        "                # cnt를 증가시키고 재귀함수\n",
        "    return cnt\n",
        "    # 다 cnt검사하면 끝을 낸다.\n",
        "    \n",
        "read = lambda : sys.stdin.readline().strip()\n",
        "while True:\n",
        "    w,h= map(int, read().split())\n",
        "    if w==0 and h==0:\n",
        "        break\n",
        "\n",
        "\n",
        "    matrix = [list(map(int, read().split())) for _ in range(h)]\n",
        "    # matrix에 input값 넣기\n",
        "\n",
        "    ans = []\n",
        "    for i in range(h):\n",
        "        for j in range(w):\n",
        "            if matrix[i][j]==1:\n",
        "                # 일단 1로 뭔가의 그룹이다.\n",
        "                ans.append(dfs(matrix, 1, i, j))\n",
        "    print(len(ans))\n",
        "\n"
      ],
      "execution_count": null,
      "outputs": []
    },
    {
      "cell_type": "markdown",
      "metadata": {
        "id": "nvyDL66xqtOq",
        "colab_type": "text"
      },
      "source": [
        "## 미로탐색 (2178)"
      ]
    },
    {
      "cell_type": "code",
      "metadata": {
        "id": "fuyWcQF_qxmh",
        "colab_type": "code",
        "colab": {
          "base_uri": "https://localhost:8080/",
          "height": 126
        },
        "outputId": "3bce2694-7c02-4526-f8d4-51088e341703"
      },
      "source": [
        "from collections import deque\n",
        "\n",
        "dx = [0, 0, 1, -1]\n",
        "dy = [1, -1, 0, 0]\n",
        " \n",
        "n, m = map(int, input().split())\n",
        "a = [list(map(int, list(input()))) for _ in range(n)]\n",
        "check = [[False]*m for _ in range(n)]\n",
        "\n",
        "\n",
        "def BFS(x,y):\n",
        "    q = deque()\n",
        "    q.append((x,x))\n",
        "    check[x][x] = True\n",
        "\n",
        "     \n",
        "    while q:\n",
        "        x, y = q.popleft()\n",
        "        for k in range(4):\n",
        "            nx, ny = x+dx[k], y+dy[k]\n",
        "            if 0 <= nx < n and 0 <= ny < m:\n",
        "                if check[nx][ny] == False and a[nx][ny] != 0:\n",
        "                    q.append((nx,ny))\n",
        "                    a[nx][ny] = a[x][y] + 1\n",
        "                    check[nx][ny] = True\n",
        "    return a[n-1][m-1]\n",
        " \n",
        "print(BFS(0,0))\n"
      ],
      "execution_count": null,
      "outputs": [
        {
          "output_type": "stream",
          "text": [
            "4 6\n",
            "101111\n",
            "101010\n",
            "101011\n",
            "111011\n",
            "15\n"
          ],
          "name": "stdout"
        }
      ]
    },
    {
      "cell_type": "markdown",
      "metadata": {
        "id": "Emww7H2rrDa3",
        "colab_type": "text"
      },
      "source": [
        "# 토마토 (7576)"
      ]
    },
    {
      "cell_type": "code",
      "metadata": {
        "id": "jOrUZuDHq-Vh",
        "colab_type": "code",
        "colab": {}
      },
      "source": [
        "import sys\n",
        "from collections import deque\n",
        "\n",
        "read = lambda : sys.stdin.readline().strip()\n",
        "\n",
        "\n",
        "\n",
        "def BFS(tomato):\n",
        "    dx=[-1,1,0,0]\n",
        "    dy=[0,0,-1,1]\n",
        "    q=deque()\n",
        "    count=0\n",
        "    for item in tomato:\n",
        "        q.append(item)\n",
        "     \n",
        "    while q:\n",
        "        x, y = q.popleft()\n",
        "    \n",
        "        for k in range(4):\n",
        "            nx, ny = x+dx[k], y+dy[k]\n",
        "            if 0 <= nx < m and 0 <= ny < n:\n",
        "                if maps[nx][ny] != -1 and maps[nx][ny]==0:\n",
        "                    q.append((nx,ny))\n",
        "                    maps[nx][ny] = maps[x][y] + 1\n",
        "                    count+=1\n",
        "                    \n",
        "    return count\n",
        " \n",
        "\n",
        "\n",
        "n,m = map(int,read().split())\n",
        "maps= [list(map(int,read().split())) for _ in range(m)]\n",
        "tomato=[]\n",
        "for i in range(m):\n",
        "    for j in range(n):\n",
        "        if maps[i][j]==1:\n",
        "            tomato.append((i,j))\n",
        "\n",
        "count=BFS(tomato)\n",
        "MAX=0\n",
        "if count==0:\n",
        "    print(count)\n",
        "else:\n",
        "    for item in maps:\n",
        "        if 0 in item:\n",
        "            print(-1)\n",
        "            MAX=0\n",
        "            break\n",
        "        elif max(item)>MAX:\n",
        "            MAX=max(item)\n",
        "if MAX!=0:\n",
        "    print(MAX-1)\n"
      ],
      "execution_count": null,
      "outputs": []
    },
    {
      "cell_type": "markdown",
      "metadata": {
        "id": "l3UN1jXOw1zK",
        "colab_type": "text"
      },
      "source": [
        "# 다리만들기 (2146)"
      ]
    },
    {
      "cell_type": "code",
      "metadata": {
        "id": "6UVO14rRc7XR",
        "colab_type": "code",
        "colab": {}
      },
      "source": [
        "import sys\n",
        "import copy\n",
        "from collections import deque\n",
        "\n",
        "read = lambda : sys.stdin.readline().strip()\n",
        "dx=[-1,1,0,0]\n",
        "dy=[0,0,-1,1]\n",
        "\n",
        "def grouping(x,y,count):\n",
        "    visited[x][y]=True\n",
        "    group[x][y]=count\n",
        "    q=deque()\n",
        "    q.append((x,y))\n",
        "    while q:\n",
        "        x, y = q.popleft()\n",
        "        for k in range(4):\n",
        "            nx, ny = x+dx[k], y+dy[k]\n",
        "            if 0 <= nx < n and 0 <= ny < n:\n",
        "                if visited[nx][ny]==False and maps[nx][ny]==1:\n",
        "                    q.append((nx,ny))\n",
        "                    visited[nx][ny]=True\n",
        "                    group[nx][ny] = count\n",
        "        \n",
        "def BFS(maps):\n",
        "    q=deque()\n",
        "    for i in range(n):\n",
        "        for j in range(n):\n",
        "            if maps[i][j]==1:\n",
        "                q.append((i,j))\n",
        "    while q:\n",
        "        x, y = q.popleft()\n",
        "        for k in range(4):\n",
        "            nx, ny = x+dx[k], y+dy[k]\n",
        "            if 0 <= nx < n and 0 <= ny < n :\n",
        "                if  maps[nx][ny]==0:\n",
        "                    q.append((nx,ny))\n",
        "                    maps[nx][ny]=maps[x][y]+1\n",
        "                    group[nx][ny]=group[x][y]\n",
        "\n",
        "\n",
        "\n",
        "n = int(read())\n",
        "maps= [list(map(int,read().split())) for _ in range(n)]\n",
        "group=copy.deepcopy(maps)\n",
        "visited=[[False]*n for _ in range(n)]\n",
        "count=1\n",
        "\n",
        "\n",
        "for i in range(n):\n",
        "    for j in range(n):\n",
        "        if maps[i][j]==1 and visited[i][j]==False:           \n",
        "            grouping(i,j,count)\n",
        "            count+=1\n",
        "\n",
        "BFS(maps)\n",
        "\n",
        "result=[]\n",
        "# 최소값을 구함\n",
        "for i in range(n):\n",
        "    for j in range(n):\n",
        "        for k in range(4):\n",
        "            nx=i+dx[k]\n",
        "            ny=j+dy[k]\n",
        "            if 0<=nx<n and 0<=ny<n:\n",
        "                if group[i][j]!=group[nx][ny]:\n",
        "                    result.append(maps[i][j]+maps[nx][ny])\n",
        "                    \n",
        "print(min(result)-2)"
      ],
      "execution_count": null,
      "outputs": []
    }
  ]
}