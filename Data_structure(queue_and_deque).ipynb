{
  "nbformat": 4,
  "nbformat_minor": 0,
  "metadata": {
    "colab": {
      "name": "Data_structure(queue and deque).ipynb",
      "provenance": [],
      "authorship_tag": "ABX9TyPgOqAmD9sLkBSSNnoM2/hW",
      "include_colab_link": true
    },
    "kernelspec": {
      "name": "python3",
      "display_name": "Python 3"
    }
  },
  "cells": [
    {
      "cell_type": "markdown",
      "metadata": {
        "id": "view-in-github",
        "colab_type": "text"
      },
      "source": [
        "<a href=\"https://colab.research.google.com/github/minddo/Algorithm_practice/blob/master/Data_structure(queue_and_deque).ipynb\" target=\"_parent\"><img src=\"https://colab.research.google.com/assets/colab-badge.svg\" alt=\"Open In Colab\"/></a>"
      ]
    },
    {
      "cell_type": "markdown",
      "metadata": {
        "id": "RLISGF4vmRMe",
        "colab_type": "text"
      },
      "source": [
        "# Queue (10845)"
      ]
    },
    {
      "cell_type": "code",
      "metadata": {
        "id": "WV6h5M2ylhmh",
        "colab_type": "code",
        "colab": {}
      },
      "source": [
        "class Queue():\n",
        "    def __init__(self):\n",
        "        self.items=[]\n",
        "        self.head=0\n",
        "        self.tail=0\n",
        "    def push(self, item):\n",
        "        self.items.append(item)\n",
        "        self.tail+=1\n",
        "    def size(self):\n",
        "        return self.tail-self.head\n",
        "    def pop(self):\n",
        "        if self.size()!=0:\n",
        "            item=self.items[self.head]\n",
        "            self.head+=1\n",
        "            return item\n",
        "        else:\n",
        "            return -1\n",
        "    def empty(self):\n",
        "        if self.size()==0:\n",
        "            return 1\n",
        "        else:\n",
        "            return 0\n",
        "    def front(self):\n",
        "        if self.size()!=0:\n",
        "            return self.items[self.head]\n",
        "        else:\n",
        "            return -1\n",
        "    def back(self):\n",
        "        if self.size()!=0:\n",
        "            return self.items[self.tail-1]\n",
        "        else:\n",
        "            return -1"
      ],
      "execution_count": 0,
      "outputs": []
    },
    {
      "cell_type": "code",
      "metadata": {
        "id": "gNSrXX0hmXKY",
        "colab_type": "code",
        "outputId": "4f82b78a-7fe3-482b-ae23-ea7d34bf4525",
        "colab": {
          "base_uri": "https://localhost:8080/",
          "height": 521
        }
      },
      "source": [
        "queue=Queue()\n",
        "num=int(input())\n",
        "for i in range(num):\n",
        "    oper=input()\n",
        "    if oper[0:4]==\"push\":\n",
        "        item=int(oper[5])\n",
        "        queue.push(item)\n",
        "    elif oper==\"pop\":\n",
        "        print(queue.pop())\n",
        "    elif oper==\"size\":\n",
        "        print(queue.size())\n",
        "    elif oper==\"empty\":\n",
        "        print(queue.empty())\n",
        "    elif oper==\"front\":\n",
        "        print(queue.front())\n",
        "    elif oper==\"back\":\n",
        "        print(queue.back())"
      ],
      "execution_count": 0,
      "outputs": [
        {
          "output_type": "stream",
          "text": [
            "15\n",
            "push 1\n",
            "push 2\n",
            "front\n",
            "1\n",
            "back\n",
            "2\n",
            "size\n",
            "2\n",
            "empty\n",
            "0\n",
            "pop\n",
            "1\n",
            "pop\n",
            "2\n",
            "pop\n",
            "-1\n",
            "size\n",
            "0\n",
            "empty\n",
            "1\n",
            "pop\n",
            "-1\n",
            "push 3\n",
            "empty\n",
            "0\n",
            "front\n",
            "3\n"
          ],
          "name": "stdout"
        }
      ]
    },
    {
      "cell_type": "code",
      "metadata": {
        "id": "ZYsycyIS7-Gz",
        "colab_type": "code",
        "colab": {}
      },
      "source": [
        "## 시간초과 방지\n",
        "## jupyter에서 실행 x\n",
        "import sys\n",
        "queue=Queue()\n",
        "num = int(sys.stdin.readline())\n",
        "for i in range(num):\n",
        "    oper = sys.stdin.readline().split()\n",
        "    if oper[0]==\"push\":\n",
        "        item=int(oper[1])\n",
        "        queue.push(item)\n",
        "    elif oper[0]==\"pop\":\n",
        "        print(queue.pop())\n",
        "    elif oper[0]==\"size\":\n",
        "        print(queue.size())\n",
        "    elif oper[0]==\"empty\":\n",
        "        print(queue.empty())\n",
        "    elif oper[0]==\"front\":\n",
        "        print(queue.front())\n",
        "    elif oper[0]==\"back\":\n",
        "        print(queue.back())"
      ],
      "execution_count": 0,
      "outputs": []
    },
    {
      "cell_type": "markdown",
      "metadata": {
        "id": "C8qJEYTfCh6d",
        "colab_type": "text"
      },
      "source": [
        "#조세퍼스 문제 (1158)"
      ]
    },
    {
      "cell_type": "code",
      "metadata": {
        "id": "fg-lr5RQD5Wa",
        "colab_type": "code",
        "outputId": "1f5c5645-491d-48f0-8ffb-217ff55a212b",
        "colab": {
          "base_uri": "https://localhost:8080/",
          "height": 53
        }
      },
      "source": [
        "#입력\n",
        "pop_items=[]\n",
        "items,k=map(int,input().split())\n",
        "num_list=list(range(1,items+1))\n",
        "#빼기\n",
        "for i in range(items-1):\n",
        "    if len(num_list)>k:\n",
        "        item=num_list.pop(k-1)\n",
        "    else:\n",
        "        k=k%len(num_list)\n",
        "pop_items.append(queue.pop())\n",
        "\n",
        "#출력\n",
        "print(\"<\", end='')\n",
        "for i in pop_items:\n",
        "    if i == pop_items[-1]:\n",
        "        print(i, end = '')\n",
        "    else:\n",
        "        print(\"%s, \" %(i), end='')\n",
        "print(\">\")"
      ],
      "execution_count": 0,
      "outputs": [
        {
          "output_type": "stream",
          "text": [
            "7 3\n",
            "<3, 6, 2, 7, 5, 1, 4>\n"
          ],
          "name": "stdout"
        }
      ]
    },
    {
      "cell_type": "code",
      "metadata": {
        "id": "iWhTHEZZi7wf",
        "colab_type": "code",
        "outputId": "7919f841-cac7-40e2-f614-357829d3e08c",
        "colab": {
          "base_uri": "https://localhost:8080/",
          "height": 35
        }
      },
      "source": [
        "#입력\n",
        "pop_items=[]\n",
        "items,k=map(int,input().split())\n",
        "num_list=list(range(1,items+1))\n",
        "start=0\n",
        "k-=1\n",
        "#빼기\n",
        "for i in range(items-1):\n",
        "    start+=k\n",
        "    if len(num_list)>start:\n",
        "        item=num_list.pop(start)\n",
        "        pop_items.append(item)\n",
        "    else:\n",
        "        start=start%len(num_list)\n",
        "        item=num_list.pop(start)\n",
        "        pop_items.append(item)\n",
        "\n",
        "pop_items.append(num_list.pop())\n",
        "\n",
        "#출력\n",
        "print(\"<\", end='')\n",
        "for i in pop_items:\n",
        "    if i == pop_items[-1]:\n",
        "        print(i, end = '')\n",
        "    else:\n",
        "        print(\"%s, \" %(i), end='')\n",
        "print(\">\")"
      ],
      "execution_count": 0,
      "outputs": [
        {
          "output_type": "execute_result",
          "data": {
            "text/plain": [
              "6"
            ]
          },
          "metadata": {
            "tags": []
          },
          "execution_count": 14
        }
      ]
    },
    {
      "cell_type": "markdown",
      "metadata": {
        "id": "lMpJpXaoAUNy",
        "colab_type": "text"
      },
      "source": [
        "#Deque (10866)"
      ]
    },
    {
      "cell_type": "code",
      "metadata": {
        "id": "L4oK1IxgjTAZ",
        "colab_type": "code",
        "colab": {}
      },
      "source": [
        "class Deque():\n",
        "    def __init__(self):\n",
        "        self.items=[]\n",
        "        self.head=0\n",
        "        self.tail=0\n",
        "    \n",
        "    def push_front(self, item):\n",
        "        self.items.insert(self.head,item)\n",
        "        self.tail+=1\n",
        "    \n",
        "    def push_back(self, item):\n",
        "        self.items.append(item)\n",
        "        self.tail+=1\n",
        "    \n",
        "    def pop_front(self):\n",
        "        if self.size()!=0:\n",
        "            item=self.items[self.head]\n",
        "            self.head+=1\n",
        "            return item\n",
        "        else:\n",
        "            return -1\n",
        "\n",
        "    def pop_back(self):\n",
        "        if self.size()!=0:\n",
        "            item=self.items[self.tail-1]\n",
        "            self.tail-=1\n",
        "            return item\n",
        "        else:\n",
        "            return -1\n",
        "    \n",
        "    def size(self):\n",
        "        return self.tail-self.head\n",
        "    \n",
        "    def empty(self):\n",
        "        if self.size()==0:\n",
        "            return 1\n",
        "        else:\n",
        "            return 0\n",
        "    \n",
        "    def front(self):\n",
        "        if self.size()!=0:\n",
        "            return self.items[self.head]\n",
        "        else:\n",
        "            return -1\n",
        "\n",
        "    def back(self):\n",
        "        if self.size()!=0:\n",
        "            return self.items[self.tail-1]\n",
        "        else:\n",
        "            return -1\n",
        "\n"
      ],
      "execution_count": 0,
      "outputs": []
    },
    {
      "cell_type": "code",
      "metadata": {
        "id": "GNYUWrg3A54l",
        "colab_type": "code",
        "outputId": "62e731bf-d427-48b8-b937-dcc34e6c615d",
        "colab": {
          "base_uri": "https://localhost:8080/",
          "height": 476
        }
      },
      "source": [
        "deque=Deque()\n",
        "num=int(input())\n",
        "for i in range(num):\n",
        "    oper=input().split()\n",
        "    if oper[0]==\"push_front\":\n",
        "        item=int(oper[1])\n",
        "        deque.push_front(item)\n",
        "    elif oper[0]==\"push_back\":\n",
        "        item=int(oper[1])\n",
        "        deque.push_back(item)\n",
        "    elif oper[0]==\"pop_front\":\n",
        "        print(deque.pop_front())\n",
        "    elif oper[0]==\"pop_back\":\n",
        "        print(deque.pop_back())\n",
        "    elif oper[0]=='size':\n",
        "        print(deque.size())\n",
        "    elif oper[0]==\"empty\":\n",
        "        print(deque.empty())\n",
        "    elif oper[0]==\"front\":\n",
        "        print(deque.front())\n",
        "    elif oper[0]==\"back\":\n",
        "        print(deque.back())\n",
        "    "
      ],
      "execution_count": 8,
      "outputs": [
        {
          "output_type": "stream",
          "text": [
            "15\n",
            "push_front 2\n",
            "push_back 1\n",
            "front\n",
            "2\n",
            "back\n",
            "1\n",
            "emprt\n",
            "size\n",
            "2\n",
            "pop_front\n",
            "2\n",
            "pop_back\n",
            "1\n",
            "size\n",
            "0\n",
            "empty\n",
            "1\n",
            "push_front 3\n",
            "empty\n",
            "0\n",
            "front\n",
            "3\n",
            "pop_front\n",
            "3\n",
            "empty\n",
            "1\n"
          ],
          "name": "stdout"
        }
      ]
    },
    {
      "cell_type": "code",
      "metadata": {
        "id": "Y9DHKkXKYhZa",
        "colab_type": "code",
        "colab": {}
      },
      "source": [
        "import sys\n",
        "deque=Deque()\n",
        "num = int(sys.stdin.readline())\n",
        "for i in range(num):\n",
        "    oper = sys.stdin.readline().split()\n",
        "    if deque.size()==0:\n",
        "        deque=Deque()\n",
        "    if oper[0]==\"push_front\":\n",
        "        item=int(oper[1])\n",
        "        deque.push_front(item)\n",
        "    elif oper[0]==\"push_back\":\n",
        "        item=int(oper[1])\n",
        "        deque.push_back(item)\n",
        "    elif oper[0]==\"pop_front\":\n",
        "        print(deque.pop_front())\n",
        "    elif oper[0]==\"pop_back\":\n",
        "        print(deque.pop_back())\n",
        "    elif oper[0]=='size':\n",
        "        print(deque.size())\n",
        "    elif oper[0]==\"empty\":\n",
        "        print(deque.empty())\n",
        "    elif oper[0]==\"front\":\n",
        "        print(deque.front())\n",
        "    elif oper[0]==\"back\":\n",
        "        print(deque.back())\n",
        "    "
      ],
      "execution_count": 0,
      "outputs": []
    }
  ]
}